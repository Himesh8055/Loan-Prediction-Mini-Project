{
 "cells": [
  {
   "cell_type": "markdown",
   "id": "9a37e26b-843f-4ee8-a939-d4783b5c2e72",
   "metadata": {},
   "source": [
    "## Artificial Intelligence and Machine Learning Mini Project"
   ]
  },
  {
   "cell_type": "markdown",
   "id": "c2ac5b57-c956-445c-bf52-0197980ba4f3",
   "metadata": {},
   "source": [
    "## a) Classification"
   ]
  },
  {
   "cell_type": "markdown",
   "id": "ca23d343-5418-48a5-bdad-3713f0f5ca6b",
   "metadata": {},
   "source": [
    "## Detect missing values with pandas dataframe."
   ]
  },
  {
   "cell_type": "code",
   "execution_count": 81,
   "id": "bc42baf1-3e89-4842-83df-eaa80652fd60",
   "metadata": {},
   "outputs": [
    {
     "name": "stdout",
     "output_type": "stream",
     "text": [
      "<class 'pandas.core.frame.DataFrame'>\n",
      "RangeIndex: 50 entries, 0 to 49\n",
      "Data columns (total 13 columns):\n",
      " #   Column              Non-Null Count  Dtype  \n",
      "---  ------              --------------  -----  \n",
      " 0   Loan_ID             49 non-null     object \n",
      " 1   Gender              48 non-null     object \n",
      " 2   Married             49 non-null     object \n",
      " 3   Dependents          49 non-null     object \n",
      " 4   Education           49 non-null     object \n",
      " 5   Self_Employed       44 non-null     object \n",
      " 6   ApplicantIncome     49 non-null     float64\n",
      " 7   Coapplicant_Income  49 non-null     float64\n",
      " 8   LoanAmount          47 non-null     float64\n",
      " 9   Loan_Amount_Term    45 non-null     float64\n",
      " 10  Credit_History      45 non-null     float64\n",
      " 11  Cibil_Score         49 non-null     float64\n",
      " 12   Loan_Status        50 non-null     object \n",
      "dtypes: float64(6), object(7)\n",
      "memory usage: 5.2+ KB\n",
      "\n",
      "\n",
      "\n",
      "is_na:\n",
      "\n",
      "    Loan_ID  Gender  Married  Dependents  Education  Self_Employed  \\\n",
      "0    False   False    False       False      False          False   \n",
      "1    False   False    False       False      False          False   \n",
      "2    False   False    False       False      False          False   \n",
      "3    False   False    False       False      False          False   \n",
      "4    False   False    False       False      False          False   \n",
      "5    False   False    False       False      False          False   \n",
      "6    False   False    False       False      False          False   \n",
      "\n",
      "   ApplicantIncome  Coapplicant_Income  LoanAmount  Loan_Amount_Term  \\\n",
      "0            False               False        True             False   \n",
      "1            False               False       False             False   \n",
      "2            False               False       False             False   \n",
      "3            False               False       False             False   \n",
      "4            False               False       False             False   \n",
      "5            False               False       False             False   \n",
      "6            False               False       False             False   \n",
      "\n",
      "   Credit_History  Cibil_Score   Loan_Status  \n",
      "0           False        False         False  \n",
      "1           False        False         False  \n",
      "2           False        False         False  \n",
      "3           False        False         False  \n",
      "4           False        False         False  \n",
      "5           False        False         False  \n",
      "6           False        False         False  \n",
      "\n",
      "\n",
      "\n",
      "Count of all Missing values:\n",
      "\n",
      " Loan_ID               1\n",
      "Gender                2\n",
      "Married               1\n",
      "Dependents            1\n",
      "Education             1\n",
      "Self_Employed         6\n",
      "ApplicantIncome       1\n",
      "Coapplicant_Income    1\n",
      "LoanAmount            3\n",
      "Loan_Amount_Term      5\n",
      "Credit_History        5\n",
      "Cibil_Score           1\n",
      " Loan_Status          0\n",
      "dtype: int64\n"
     ]
    }
   ],
   "source": [
    "import pandas as p\n",
    "df=p.read_csv(\"C:\\\\Users\\\\User\\\\OneDrive\\\\Desktop\\\\repo\\\\loan_prediction1.csv\")\n",
    "info=df.info()\n",
    "print(\"\\n\\n\\nis_na:\\n\\n\",df.isna().head(7))\n",
    "is_null_su=df.isna().sum()\n",
    "print(\"\\n\\n\\nCount of all Missing values:\\n\\n\",df.isna().sum())"
   ]
  },
  {
   "cell_type": "markdown",
   "id": "6e60629b-d034-4e2f-8f7e-fa3eca5175a0",
   "metadata": {},
   "source": [
    "## Replacing with values"
   ]
  },
  {
   "cell_type": "code",
   "execution_count": 83,
   "id": "adea3193-e705-4164-be3f-47478f4ba2f4",
   "metadata": {},
   "outputs": [
    {
     "name": "stdout",
     "output_type": "stream",
     "text": [
      "Loan_ID               1\n",
      "Gender                2\n",
      "Married               1\n",
      "Dependents            1\n",
      "Education             1\n",
      "Self_Employed         6\n",
      "ApplicantIncome       1\n",
      "Coapplicant_Income    1\n",
      "LoanAmount            3\n",
      "Loan_Amount_Term      5\n",
      "Credit_History        5\n",
      "Cibil_Score           1\n",
      " Loan_Status          0\n",
      "dtype: int64\n",
      "\n",
      "\n",
      "\n",
      "\n",
      "Loan_ID               0\n",
      "Gender                0\n",
      "Married               0\n",
      "Dependents            0\n",
      "Education             0\n",
      "Self_Employed         0\n",
      "ApplicantIncome       0\n",
      "Coapplicant_Income    0\n",
      "LoanAmount            0\n",
      "Loan_Amount_Term      0\n",
      "Credit_History        0\n",
      "Cibil_Score           0\n",
      " Loan_Status          0\n",
      "dtype: int64\n"
     ]
    }
   ],
   "source": [
    "import numpy as n\n",
    "df=p.read_csv(\"C:\\\\Users\\\\User\\\\OneDrive\\\\Desktop\\\\repo\\\\loan_prediction1.csv\")\n",
    "print(df.isna().sum())\n",
    "df=df.replace({n.nan:-1})\n",
    "print(\"\\n\\n\\n\")\n",
    "print(df.isna().sum())"
   ]
  },
  {
   "cell_type": "markdown",
   "id": "027ac5d6-d1b2-4d38-ad4c-92c5f5fa0da7",
   "metadata": {},
   "source": [
    "## Covarience and correlation"
   ]
  },
  {
   "cell_type": "code",
   "execution_count": 85,
   "id": "6351c794-6318-44ee-9f93-55ec9502d71c",
   "metadata": {},
   "outputs": [
    {
     "name": "stdout",
     "output_type": "stream",
     "text": [
      "Covariance Matrix:\n",
      "                 ApplicantIncome     LoanAmount\n",
      "ApplicantIncome     5.848944e+06  122864.573469\n",
      "LoanAmount          1.228646e+05    5523.316327\n",
      "\n",
      "\n",
      "Correlation Matrix:\n",
      "                 ApplicantIncome  LoanAmount\n",
      "ApplicantIncome         1.000000    0.683578\n",
      "LoanAmount              0.683578    1.000000\n"
     ]
    }
   ],
   "source": [
    "# Select numeric columns for covariance and correlation calculations\n",
    "numeric_columns = [\n",
    "     'ApplicantIncome', 'LoanAmount'\n",
    "]\n",
    "\n",
    "# Drop rows with missing values in the selected columns\n",
    "df_numeric = df[numeric_columns].dropna()\n",
    "\n",
    "# Calculate covariance matrix\n",
    "cov_matrix = df_numeric.cov()\n",
    "print(\"Covariance Matrix:\")\n",
    "print(cov_matrix)\n",
    "print(\"\\n\")\n",
    "# Calculate correlation matrix\n",
    "corr_matrix = df_numeric.corr()\n",
    "print(\"Correlation Matrix:\")\n",
    "print(corr_matrix)"
   ]
  },
  {
   "cell_type": "markdown",
   "id": "079a2b45-a7de-4a0c-9033-8fd4b7446a0f",
   "metadata": {},
   "source": [
    "## Removing the attributes with missing values"
   ]
  },
  {
   "cell_type": "code",
   "execution_count": 88,
   "id": "19532817-6e07-4451-b337-936c28856f20",
   "metadata": {},
   "outputs": [
    {
     "name": "stdout",
     "output_type": "stream",
     "text": [
      "\n",
      "Before Droping:\n",
      "\n",
      "<class 'pandas.core.frame.DataFrame'>\n",
      "RangeIndex: 50 entries, 0 to 49\n",
      "Data columns (total 13 columns):\n",
      " #   Column              Non-Null Count  Dtype  \n",
      "---  ------              --------------  -----  \n",
      " 0   Loan_ID             49 non-null     object \n",
      " 1   Gender              48 non-null     object \n",
      " 2   Married             49 non-null     object \n",
      " 3   Dependents          49 non-null     object \n",
      " 4   Education           49 non-null     object \n",
      " 5   Self_Employed       44 non-null     object \n",
      " 6   ApplicantIncome     49 non-null     float64\n",
      " 7   Coapplicant_Income  49 non-null     float64\n",
      " 8   LoanAmount          47 non-null     float64\n",
      " 9   Loan_Amount_Term    45 non-null     float64\n",
      " 10  Credit_History      45 non-null     float64\n",
      " 11  Cibil_Score         49 non-null     float64\n",
      " 12   Loan_Status        50 non-null     object \n",
      "dtypes: float64(6), object(7)\n",
      "memory usage: 5.2+ KB\n",
      "\n",
      "\n",
      "After Droping:\n",
      "\n",
      "<class 'pandas.core.frame.DataFrame'>\n",
      "RangeIndex: 50 entries, 0 to 49\n",
      "Data columns (total 1 columns):\n",
      " #   Column        Non-Null Count  Dtype \n",
      "---  ------        --------------  ----- \n",
      " 0    Loan_Status  50 non-null     object\n",
      "dtypes: object(1)\n",
      "memory usage: 532.0+ bytes\n"
     ]
    }
   ],
   "source": [
    "import pandas as p\n",
    "df=p.read_csv(\"C:\\\\Users\\\\User\\\\OneDrive\\\\Desktop\\\\repo\\\\loan_prediction1.csv\")\n",
    "print(\"\\nBefore Droping:\\n\")\n",
    "df.info()\n",
    "df=df.dropna(axis=1)\n",
    "print('\\n\\nAfter Droping:\\n')\n",
    "df.info()"
   ]
  },
  {
   "cell_type": "markdown",
   "id": "3b18eac0-d5ed-4a92-8e7d-37d7e7679b39",
   "metadata": {},
   "source": [
    "## Replacing with Mean Value"
   ]
  },
  {
   "cell_type": "code",
   "execution_count": 104,
   "id": "3fb7a00d-44c5-4082-baad-96d8d882fad8",
   "metadata": {},
   "outputs": [
    {
     "name": "stdout",
     "output_type": "stream",
     "text": [
      "Before Replacing:\n",
      "\n",
      " 0    5849.0\n",
      "1    4583.0\n",
      "2    3000.0\n",
      "3    2583.0\n",
      "4    6000.0\n",
      "5    5417.0\n",
      "6    2333.0\n",
      "7    3036.0\n",
      "Name: ApplicantIncome, dtype: float64\n",
      "\n",
      "Mean of 'ApplicantIncome' Column: 4160.408163265306\n",
      "\n",
      "After Replacing with Mean:\n",
      "\n",
      " 0    5849.0\n",
      "1    4583.0\n",
      "2    3000.0\n",
      "3    2583.0\n",
      "4    6000.0\n",
      "5    5417.0\n",
      "6    2333.0\n",
      "7    3036.0\n",
      "Name: ApplicantIncome, dtype: float64\n"
     ]
    }
   ],
   "source": [
    "df=p.read_csv(\"C:\\\\Users\\\\User\\\\OneDrive\\\\Desktop\\\\repo\\\\loan_prediction1.csv\")\n",
    "df['ApplicantIncome'] = p.to_numeric(df['ApplicantIncome'], errors='coerce')\n",
    "print(\"Before Replacing:\\n\\n\",df['ApplicantIncome'].head(8))\n",
    "print(\"\\nMean of 'ApplicantIncome' Column:\",df['ApplicantIncome'].mean())\n",
    "dp=df['ApplicantIncome'].fillna(df['ApplicantIncome'].mean())\n",
    "print(\"\\nAfter Replacing with Mean:\\n\\n\",dp.head(8))"
   ]
  },
  {
   "cell_type": "markdown",
   "id": "abc8174c-9333-450c-ab04-712113886532",
   "metadata": {},
   "source": [
    "## Replacing with Median value"
   ]
  },
  {
   "cell_type": "code",
   "execution_count": 106,
   "id": "6ae1d580-6741-4a94-ab5e-a3cbb9a38dae",
   "metadata": {},
   "outputs": [
    {
     "name": "stdout",
     "output_type": "stream",
     "text": [
      "Before Replacing:\n",
      "\n",
      " 0    5849.0\n",
      "1    4583.0\n",
      "2    3000.0\n",
      "3    2583.0\n",
      "4    6000.0\n",
      "5    5417.0\n",
      "6    2333.0\n",
      "7    3036.0\n",
      "Name: ApplicantIncome, dtype: float64\n",
      "\n",
      "Median of 'ApplicantIncome' Column: 3600.0\n",
      "\n",
      "After Replacing with Mean:\n",
      "\n",
      " 0    5849.0\n",
      "1    4583.0\n",
      "2    3000.0\n",
      "3    2583.0\n",
      "4    6000.0\n",
      "5    5417.0\n",
      "6    2333.0\n",
      "7    3036.0\n",
      "Name: ApplicantIncome, dtype: float64\n"
     ]
    }
   ],
   "source": [
    "df=p.read_csv(\"C:\\\\Users\\\\User\\\\OneDrive\\\\Desktop\\\\repo\\\\loan_prediction1.csv\")\n",
    "df['ApplicantIncome'] = p.to_numeric(df['ApplicantIncome'], errors='coerce')\n",
    "print(\"Before Replacing:\\n\\n\",df['ApplicantIncome'].head(8))\n",
    "print(\"\\nMedian of 'ApplicantIncome' Column:\",df['ApplicantIncome'].median())\n",
    "dp=df['ApplicantIncome'].fillna(df['ApplicantIncome'].mean())\n",
    "print(\"\\nAfter Replacing with Mean:\\n\\n\",dp.head(8))"
   ]
  },
  {
   "cell_type": "markdown",
   "id": "06eaede1-8127-4e4f-8c80-5a9b7bba1567",
   "metadata": {},
   "source": [
    "## Replacing with Mode value"
   ]
  },
  {
   "cell_type": "code",
   "execution_count": 108,
   "id": "46909062-e5fb-4e87-8d84-b60b936e4be1",
   "metadata": {},
   "outputs": [
    {
     "name": "stdout",
     "output_type": "stream",
     "text": [
      "Before Replacing:\n",
      "\n",
      " 0    5849.0\n",
      "1    4583.0\n",
      "2    3000.0\n",
      "3    2583.0\n",
      "4    6000.0\n",
      "5    5417.0\n",
      "6    2333.0\n",
      "7    3036.0\n",
      "Name: ApplicantIncome, dtype: float64\n",
      "\n",
      "Mode of 'ApplicantIncome' Column: 0    2600.0\n",
      "1    4166.0\n",
      "Name: ApplicantIncome, dtype: float64\n",
      "\n",
      "After Replacing with Mean:\n",
      "\n",
      " 0    5849.0\n",
      "1    4583.0\n",
      "2    3000.0\n",
      "3    2583.0\n",
      "4    6000.0\n",
      "5    5417.0\n",
      "6    2333.0\n",
      "7    3036.0\n",
      "Name: ApplicantIncome, dtype: float64\n"
     ]
    }
   ],
   "source": [
    "df=p.read_csv(\"C:\\\\Users\\\\User\\\\OneDrive\\\\Desktop\\\\repo\\\\loan_prediction1.csv\")\n",
    "df['ApplicantIncome'] = p.to_numeric(df['ApplicantIncome'], errors='coerce')\n",
    "print(\"Before Replacing:\\n\\n\",df['ApplicantIncome'].head(8))\n",
    "print(\"\\nMode of 'ApplicantIncome' Column:\",df['ApplicantIncome'].mode())\n",
    "dp=df['ApplicantIncome'].fillna(df['ApplicantIncome'].mean())\n",
    "print(\"\\nAfter Replacing with Mean:\\n\\n\",dp.head(8))"
   ]
  },
  {
   "cell_type": "markdown",
   "id": "4fcc370f-3769-456e-b3ed-ee67ddbea7e0",
   "metadata": {},
   "source": [
    "## Univariate Outliers"
   ]
  },
  {
   "cell_type": "code",
   "execution_count": 110,
   "id": "9e44682a-1e44-46f9-ab67-dd32ede2fe25",
   "metadata": {},
   "outputs": [
    {
     "name": "stdout",
     "output_type": "stream",
     "text": [
      "Identified Outliers:\n",
      "      Loan_ID Gender Married Dependents Education Self_Employed  \\\n",
      "9   LP001020   Male     Yes          1  Graduate            No   \n",
      "25  LP001066   Male     Yes          0  Graduate           Yes   \n",
      "34  LP001100   Male      No         3+  Graduate            No   \n",
      "\n",
      "    ApplicantIncome  Coapplicant_Income  LoanAmount  Loan_Amount_Term  \\\n",
      "9           12841.0             10968.0       349.0             360.0   \n",
      "25           9560.0                 0.0       191.0             360.0   \n",
      "34          12500.0              3000.0       320.0             360.0   \n",
      "\n",
      "    Credit_History  Cibil_Score  Loan_Status  \n",
      "9              1.0        388.0     Rejected  \n",
      "25             1.0        514.0     Rejected  \n",
      "34             1.0        612.0     Approved  \n",
      "\n",
      "Original DataFrame shape: (50, 13)\n",
      "DataFrame shape after removing outliers: (46, 13)\n"
     ]
    },
    {
     "data": {
      "image/png": "[encoded data removed]",
      "text/plain": [
       "<Figure size 1000x600 with 1 Axes>"
      ]
     },
     "metadata": {},
     "output_type": "display_data"
    }
   ],
   "source": [
    "import pandas as p\n",
    "import matplotlib.pyplot as plt\n",
    "import seaborn as sns\n",
    "df = p.read_csv(\"C:\\\\Users\\\\User\\\\OneDrive\\\\Desktop\\\\repo\\\\loan_prediction1.csv\")\n",
    "df['ApplicantIncome'] = p.to_numeric(df['ApplicantIncome'], errors='coerce')\n",
    "Q1 = df['ApplicantIncome'].quantile(0.25)\n",
    "Q3 = df['ApplicantIncome'].quantile(0.75)\n",
    "IQR = Q3 - Q1\n",
    "lower_bound = Q1 - 1.5 * IQR\n",
    "upper_bound = Q3 + 1.5 * IQR\n",
    "outliers = df[(df['ApplicantIncome'] < lower_bound) | (df['ApplicantIncome'] > upper_bound)]\n",
    "print(\"Identified Outliers:\\n\", outliers)\n",
    "df_no_outliers = df[(df['ApplicantIncome'] >= lower_bound) & (df['ApplicantIncome'] <= upper_bound)]\n",
    "print(\"\\nOriginal DataFrame shape:\", df.shape)\n",
    "print(\"DataFrame shape after removing outliers:\", df_no_outliers.shape)\n",
    "plt.figure(figsize=(10, 6))\n",
    "sns.boxplot(df['ApplicantIncome'])\n",
    "plt.xlabel('ApplicantIncome')\n",
    "plt.ylabel('values')\n",
    "plt.title('Boxplot of ApplicantIncome')\n",
    "plt.show()"
   ]
  },
  {
   "cell_type": "markdown",
   "id": "9902b085-a98d-4a76-934c-fd0bd36ea61e",
   "metadata": {},
   "source": [
    "## Multivariate Outliers"
   ]
  },
  {
   "cell_type": "code",
   "execution_count": 115,
   "id": "1afd9dd2-3863-4e79-a06d-23c5badaf3e7",
   "metadata": {},
   "outputs": [
    {
     "data": {
      "image/png": "[encoded data removed]",
      "text/plain": [
       "<Figure size 1200x600 with 1 Axes>"
      ]
     },
     "metadata": {},
     "output_type": "display_data"
    }
   ],
   "source": [
    "import pandas as pd\n",
    "import matplotlib.pyplot as plt\n",
    "df = pd.read_csv(\"C:\\\\Users\\\\User\\\\OneDrive\\\\Desktop\\\\repo\\\\loan_prediction1.csv\")\n",
    "df['ApplicantIncome'] = pd.to_numeric(df['ApplicantIncome'], errors='coerce')\n",
    "plt.figure(figsize=(12, 6))\n",
    "plt.subplot(1, 1, 1)\n",
    "plt.boxplot(df['ApplicantIncome'].dropna(), vert=False)\n",
    "plt.title('Boxplot of ApplicantIncome')\n",
    "plt.xlabel('ApplicantIncome')\n",
    "plt.show()"
   ]
  },
  {
   "cell_type": "markdown",
   "id": "35de0689-bfdb-4add-8bb5-7b6cf4fe0ca0",
   "metadata": {},
   "source": [
    "## Standard Deviation"
   ]
  },
  {
   "cell_type": "code",
   "execution_count": 118,
   "id": "aa012f20-ebd7-4262-927b-73fcaa7078c2",
   "metadata": {},
   "outputs": [
    {
     "name": "stdout",
     "output_type": "stream",
     "text": [
      "Standard Deviation of LoanAmount: 69.51382641535942\n"
     ]
    }
   ],
   "source": [
    "import pandas as pd\n",
    "df = pd.read_csv(\"C:\\\\Users\\\\User\\\\OneDrive\\\\Desktop\\\\repo\\\\loan_prediction1.csv\")\n",
    "df['LoanAmount'] = pd.to_numeric(df['LoanAmount'], errors='coerce')\n",
    "std = df['LoanAmount'].std()\n",
    "print(\"Standard Deviation of LoanAmount:\", std)"
   ]
  },
  {
   "cell_type": "markdown",
   "id": "fbda4a68-e102-4162-aea3-f11039800c7c",
   "metadata": {},
   "source": [
    "## Perform SVC/SVR , Random Forest Regressor/Random Forest Classifier for Mini Project (both Regression and Classification Datasets)"
   ]
  },
  {
   "cell_type": "code",
   "execution_count": 1,
   "id": "f98d66de-dd6c-42f5-b1b9-efc6f4b8f492",
   "metadata": {},
   "outputs": [
    {
     "name": "stdout",
     "output_type": "stream",
     "text": [
      "Accuracy of RandomForestClassifier:  0.9090909090909091\n"
     ]
    }
   ],
   "source": [
    "import pandas as pd\n",
    "from sklearn.model_selection import train_test_split\n",
    "from sklearn.ensemble import RandomForestClassifier\n",
    "from sklearn.svm import SVC\n",
    "from sklearn.metrics import accuracy_score\n",
    "from sklearn.preprocessing import LabelEncoder\n",
    "df = pd.read_csv(\"C:\\\\Users\\\\User\\\\OneDrive\\\\Desktop\\\\repo\\\\loan_prediction1.csv\")\n",
    "df.drop(columns=['Loan_ID'], inplace=True)\n",
    "df.dropna(axis=0,inplace=True)\n",
    "labelencoder = LabelEncoder()\n",
    "for column in ['Gender', 'Married', 'Dependents', 'Education', 'Self_Employed', 'Loan_Status']:\n",
    "    df[column] = labelencoder.fit_transform(df[column])\n",
    "X = df.drop(columns=['Loan_Status'])  \n",
    "y = df['Loan_Status']  \n",
    "X_train, X_test, y_train, y_test = train_test_split(X, y, test_size=0.3, random_state=42)\n",
    "model = RandomForestClassifier()\n",
    "model.fit(X_train, y_train)\n",
    "y_pred = model.predict(X_test)\n",
    "print(\"Accuracy of RandomForestClassifier: \",accuracy_score(y_test,y_pred))"
   ]
  },
  {
   "cell_type": "code",
   "execution_count": 4,
   "id": "6487c9d8-b36e-48fd-968c-ac893386fbeb",
   "metadata": {},
   "outputs": [
    {
     "name": "stdout",
     "output_type": "stream",
     "text": [
      "Accuracy of SupportVectorClassifier:  0.36363636363636365\n"
     ]
    }
   ],
   "source": [
    "model1 = SVC(kernel='rbf',random_state=1,gamma='auto')\n",
    "model1.fit(X_train, y_train)\n",
    "y_pred1 = model1.predict(X_test)\n",
    "print(\"Accuracy of SupportVectorClassifier: \",accuracy_score(y_test,y_pred1))"
   ]
  },
  {
   "cell_type": "markdown",
   "id": "93ac02a1-ffd6-4244-9d8c-7dad57809cf1",
   "metadata": {},
   "source": [
    "## Logistic Regression on Mini Project Dataset"
   ]
  },
  {
   "cell_type": "code",
   "execution_count": 1,
   "id": "6e9933d3-e6f8-4844-8054-e939f3037282",
   "metadata": {},
   "outputs": [
    {
     "name": "stdout",
     "output_type": "stream",
     "text": [
      "Accuracy of Logistic Regression:  0.8181818181818182\n"
     ]
    }
   ],
   "source": [
    "import pandas as pd\n",
    "from sklearn.model_selection import train_test_split\n",
    "from sklearn.linear_model import LogisticRegression\n",
    "from sklearn.metrics import accuracy_score\n",
    "from sklearn.preprocessing import LabelEncoder\n",
    "df = pd.read_csv(\"C:\\\\Users\\\\User\\\\OneDrive\\\\Desktop\\\\repo\\\\loan_prediction1.csv\")\n",
    "df.drop(columns=['Loan_ID'], inplace=True)\n",
    "df.dropna(axis=0,inplace=True)\n",
    "labelencoder = LabelEncoder()\n",
    "for column in ['Gender', 'Married', 'Dependents', 'Education', 'Self_Employed', 'Loan_Status']:\n",
    "    df[column] = labelencoder.fit_transform(df[column])\n",
    "X = df.drop(columns=['Loan_Status'])  \n",
    "y = df['Loan_Status']  \n",
    "X_train, X_test, y_train, y_test = train_test_split(X, y, test_size=0.3, random_state=42)\n",
    "model = LogisticRegression()\n",
    "model.fit(X_train, y_train)\n",
    "y_pred = model.predict(X_test)\n",
    "print(\"Accuracy of Logistic Regression: \",accuracy_score(y_test,y_pred))"
   ]
  },
  {
   "cell_type": "markdown",
   "id": "d95063f4-b9c1-472f-930c-8172fc2f30fb",
   "metadata": {},
   "source": [
    "## Applying Deep learning on Classification dataset"
   ]
  },
  {
   "cell_type": "code",
   "execution_count": 6,
   "id": "b43fe3b0-1f7f-4936-bf9e-b2cb619caa71",
   "metadata": {},
   "outputs": [
    {
     "name": "stdout",
     "output_type": "stream",
     "text": [
      "Missing values before filling:\n",
      "Loan_ID               0\n",
      "Gender                1\n",
      "Married               0\n",
      "Dependents            0\n",
      "Education             0\n",
      "Self_Employed         5\n",
      "ApplicantIncome       0\n",
      "Coapplicant_Income    0\n",
      "LoanAmount            2\n",
      "Loan_Amount_Term      4\n",
      "Credit_History        4\n",
      "Cibil_Score           0\n",
      "Loan_Status           0\n",
      "dtype: int64\n",
      "Missing values after filling:\n",
      "Gender                0\n",
      "Married               0\n",
      "Dependents            0\n",
      "Education             0\n",
      "Self_Employed         0\n",
      "ApplicantIncome       0\n",
      "Coapplicant_Income    0\n",
      "LoanAmount            0\n",
      "Loan_Amount_Term      0\n",
      "Credit_History        0\n",
      "Cibil_Score           0\n",
      "Loan_Status           0\n",
      "dtype: int64\n"
     ]
    },
    {
     "name": "stderr",
     "output_type": "stream",
     "text": [
      "C:\\Users\\User\\anaconda\\Lib\\site-packages\\keras\\src\\layers\\core\\dense.py:87: UserWarning: Do not pass an `input_shape`/`input_dim` argument to a layer. When using Sequential models, prefer using an `Input(shape)` object as the first layer in the model instead.\n",
      "  super().__init__(activity_regularizer=activity_regularizer, **kwargs)\n"
     ]
    },
    {
     "name": "stdout",
     "output_type": "stream",
     "text": [
      "Epoch 1/50\n",
      "\u001b[1m3/3\u001b[0m \u001b[32m━━━━━━━━━━━━━━━━━━━━\u001b[0m\u001b[37m\u001b[0m \u001b[1m3s\u001b[0m 192ms/step - accuracy: 0.7261 - loss: 0.6118 - val_accuracy: 0.5000 - val_loss: 0.7782\n",
      "Epoch 2/50\n",
      "\u001b[1m3/3\u001b[0m \u001b[32m━━━━━━━━━━━━━━━━━━━━\u001b[0m\u001b[37m\u001b[0m \u001b[1m0s\u001b[0m 33ms/step - accuracy: 0.7761 - loss: 0.5499 - val_accuracy: 0.5000 - val_loss: 0.7800\n",
      "Epoch 3/50\n",
      "\u001b[1m3/3\u001b[0m \u001b[32m━━━━━━━━━━━━━━━━━━━━\u001b[0m\u001b[37m\u001b[0m \u001b[1m0s\u001b[0m 25ms/step - accuracy: 0.7386 - loss: 0.5420 - val_accuracy: 0.5000 - val_loss: 0.7834\n",
      "Epoch 4/50\n",
      "\u001b[1m3/3\u001b[0m \u001b[32m━━━━━━━━━━━━━━━━━━━━\u001b[0m\u001b[37m\u001b[0m \u001b[1m0s\u001b[0m 30ms/step - accuracy: 0.7864 - loss: 0.5267 - val_accuracy: 0.5000 - val_loss: 0.7874\n",
      "Epoch 5/50\n",
      "\u001b[1m3/3\u001b[0m \u001b[32m━━━━━━━━━━━━━━━━━━━━\u001b[0m\u001b[37m\u001b[0m \u001b[1m0s\u001b[0m 26ms/step - accuracy: 0.8114 - loss: 0.5128 - val_accuracy: 0.5000 - val_loss: 0.7909\n",
      "Epoch 6/50\n",
      "\u001b[1m3/3\u001b[0m \u001b[32m━━━━━━━━━━━━━━━━━━━━\u001b[0m\u001b[37m\u001b[0m \u001b[1m0s\u001b[0m 44ms/step - accuracy: 0.8466 - loss: 0.4861 - val_accuracy: 0.5000 - val_loss: 0.7944\n",
      "Epoch 7/50\n",
      "\u001b[1m3/3\u001b[0m \u001b[32m━━━━━━━━━━━━━━━━━━━━\u001b[0m\u001b[37m\u001b[0m \u001b[1m0s\u001b[0m 43ms/step - accuracy: 0.8341 - loss: 0.4876 - val_accuracy: 0.5000 - val_loss: 0.7993\n",
      "Epoch 8/50\n",
      "\u001b[1m3/3\u001b[0m \u001b[32m━━━━━━━━━━━━━━━━━━━━\u001b[0m\u001b[37m\u001b[0m \u001b[1m0s\u001b[0m 32ms/step - accuracy: 0.9068 - loss: 0.4660 - val_accuracy: 0.5000 - val_loss: 0.8030\n",
      "Epoch 9/50\n",
      "\u001b[1m3/3\u001b[0m \u001b[32m━━━━━━━━━━━━━━━━━━━━\u001b[0m\u001b[37m\u001b[0m \u001b[1m0s\u001b[0m 25ms/step - accuracy: 0.8818 - loss: 0.4519 - val_accuracy: 0.5000 - val_loss: 0.8023\n",
      "Epoch 10/50\n",
      "\u001b[1m3/3\u001b[0m \u001b[32m━━━━━━━━━━━━━━━━━━━━\u001b[0m\u001b[37m\u001b[0m \u001b[1m0s\u001b[0m 23ms/step - accuracy: 0.8091 - loss: 0.4569 - val_accuracy: 0.5000 - val_loss: 0.7994\n",
      "Epoch 11/50\n",
      "\u001b[1m3/3\u001b[0m \u001b[32m━━━━━━━━━━━━━━━━━━━━\u001b[0m\u001b[37m\u001b[0m \u001b[1m0s\u001b[0m 25ms/step - accuracy: 0.8091 - loss: 0.4389 - val_accuracy: 0.5000 - val_loss: 0.7965\n",
      "Epoch 12/50\n",
      "\u001b[1m3/3\u001b[0m \u001b[32m━━━━━━━━━━━━━━━━━━━━\u001b[0m\u001b[37m\u001b[0m \u001b[1m0s\u001b[0m 24ms/step - accuracy: 0.8216 - loss: 0.4306 - val_accuracy: 0.5000 - val_loss: 0.7949\n",
      "Epoch 13/50\n",
      "\u001b[1m3/3\u001b[0m \u001b[32m━━━━━━━━━━━━━━━━━━━━\u001b[0m\u001b[37m\u001b[0m \u001b[1m0s\u001b[0m 20ms/step - accuracy: 0.8443 - loss: 0.4257 - val_accuracy: 0.5000 - val_loss: 0.7922\n",
      "Epoch 14/50\n",
      "\u001b[1m3/3\u001b[0m \u001b[32m━━━━━━━━━━━━━━━━━━━━\u001b[0m\u001b[37m\u001b[0m \u001b[1m0s\u001b[0m 25ms/step - accuracy: 0.8443 - loss: 0.4047 - val_accuracy: 0.5000 - val_loss: 0.7908\n",
      "Epoch 15/50\n",
      "\u001b[1m3/3\u001b[0m \u001b[32m━━━━━━━━━━━━━━━━━━━━\u001b[0m\u001b[37m\u001b[0m \u001b[1m0s\u001b[0m 23ms/step - accuracy: 0.8818 - loss: 0.3960 - val_accuracy: 0.5000 - val_loss: 0.7892\n",
      "Epoch 16/50\n",
      "\u001b[1m3/3\u001b[0m \u001b[32m━━━━━━━━━━━━━━━━━━━━\u001b[0m\u001b[37m\u001b[0m \u001b[1m0s\u001b[0m 25ms/step - accuracy: 0.9045 - loss: 0.3813 - val_accuracy: 0.5000 - val_loss: 0.7852\n",
      "Epoch 17/50\n",
      "\u001b[1m3/3\u001b[0m \u001b[32m━━━━━━━━━━━━━━━━━━━━\u001b[0m\u001b[37m\u001b[0m \u001b[1m0s\u001b[0m 21ms/step - accuracy: 0.9045 - loss: 0.3711 - val_accuracy: 0.5000 - val_loss: 0.7800\n",
      "Epoch 18/50\n",
      "\u001b[1m3/3\u001b[0m \u001b[32m━━━━━━━━━━━━━━━━━━━━\u001b[0m\u001b[37m\u001b[0m \u001b[1m0s\u001b[0m 23ms/step - accuracy: 1.0000 - loss: 0.3562 - val_accuracy: 0.5000 - val_loss: 0.7768\n",
      "Epoch 19/50\n",
      "\u001b[1m3/3\u001b[0m \u001b[32m━━━━━━━━━━━━━━━━━━━━\u001b[0m\u001b[37m\u001b[0m \u001b[1m0s\u001b[0m 22ms/step - accuracy: 1.0000 - loss: 0.3613 - val_accuracy: 0.5000 - val_loss: 0.7763\n",
      "Epoch 20/50\n",
      "\u001b[1m3/3\u001b[0m \u001b[32m━━━━━━━━━━━━━━━━━━━━\u001b[0m\u001b[37m\u001b[0m \u001b[1m0s\u001b[0m 23ms/step - accuracy: 1.0000 - loss: 0.3445 - val_accuracy: 0.5000 - val_loss: 0.7761\n",
      "Epoch 21/50\n",
      "\u001b[1m3/3\u001b[0m \u001b[32m━━━━━━━━━━━━━━━━━━━━\u001b[0m\u001b[37m\u001b[0m \u001b[1m0s\u001b[0m 57ms/step - accuracy: 1.0000 - loss: 0.3279 - val_accuracy: 0.5000 - val_loss: 0.7759\n",
      "Epoch 22/50\n",
      "\u001b[1m3/3\u001b[0m \u001b[32m━━━━━━━━━━━━━━━━━━━━\u001b[0m\u001b[37m\u001b[0m \u001b[1m0s\u001b[0m 21ms/step - accuracy: 0.9398 - loss: 0.3238 - val_accuracy: 0.5000 - val_loss: 0.7741\n",
      "Epoch 23/50\n",
      "\u001b[1m3/3\u001b[0m \u001b[32m━━━━━━━━━━━━━━━━━━━━\u001b[0m\u001b[37m\u001b[0m \u001b[1m0s\u001b[0m 22ms/step - accuracy: 0.9648 - loss: 0.3502 - val_accuracy: 0.5000 - val_loss: 0.7711\n",
      "Epoch 24/50\n",
      "\u001b[1m3/3\u001b[0m \u001b[32m━━━━━━━━━━━━━━━━━━━━\u001b[0m\u001b[37m\u001b[0m \u001b[1m0s\u001b[0m 27ms/step - accuracy: 0.9648 - loss: 0.3058 - val_accuracy: 0.5000 - val_loss: 0.7679\n",
      "Epoch 25/50\n",
      "\u001b[1m3/3\u001b[0m \u001b[32m━━━━━━━━━━━━━━━━━━━━\u001b[0m\u001b[37m\u001b[0m \u001b[1m0s\u001b[0m 23ms/step - accuracy: 0.9295 - loss: 0.3167 - val_accuracy: 0.5000 - val_loss: 0.7622\n",
      "Epoch 26/50\n",
      "\u001b[1m3/3\u001b[0m \u001b[32m━━━━━━━━━━━━━━━━━━━━\u001b[0m\u001b[37m\u001b[0m \u001b[1m0s\u001b[0m 28ms/step - accuracy: 0.9295 - loss: 0.2882 - val_accuracy: 0.5000 - val_loss: 0.7567\n",
      "Epoch 27/50\n",
      "\u001b[1m3/3\u001b[0m \u001b[32m━━━━━━━━━━━━━━━━━━━━\u001b[0m\u001b[37m\u001b[0m \u001b[1m0s\u001b[0m 28ms/step - accuracy: 1.0000 - loss: 0.2748 - val_accuracy: 0.5000 - val_loss: 0.7515\n",
      "Epoch 28/50\n",
      "\u001b[1m3/3\u001b[0m \u001b[32m━━━━━━━━━━━━━━━━━━━━\u001b[0m\u001b[37m\u001b[0m \u001b[1m0s\u001b[0m 23ms/step - accuracy: 1.0000 - loss: 0.2813 - val_accuracy: 0.5000 - val_loss: 0.7468\n",
      "Epoch 29/50\n",
      "\u001b[1m3/3\u001b[0m \u001b[32m━━━━━━━━━━━━━━━━━━━━\u001b[0m\u001b[37m\u001b[0m \u001b[1m0s\u001b[0m 22ms/step - accuracy: 1.0000 - loss: 0.2686 - val_accuracy: 0.5000 - val_loss: 0.7424\n",
      "Epoch 30/50\n",
      "\u001b[1m3/3\u001b[0m \u001b[32m━━━━━━━━━━━━━━━━━━━━\u001b[0m\u001b[37m\u001b[0m \u001b[1m0s\u001b[0m 24ms/step - accuracy: 1.0000 - loss: 0.2958 - val_accuracy: 0.5000 - val_loss: 0.7372\n",
      "Epoch 31/50\n",
      "\u001b[1m3/3\u001b[0m \u001b[32m━━━━━━━━━━━━━━━━━━━━\u001b[0m\u001b[37m\u001b[0m \u001b[1m0s\u001b[0m 25ms/step - accuracy: 1.0000 - loss: 0.2596 - val_accuracy: 0.5000 - val_loss: 0.7319\n",
      "Epoch 32/50\n",
      "\u001b[1m3/3\u001b[0m \u001b[32m━━━━━━━━━━━━━━━━━━━━\u001b[0m\u001b[37m\u001b[0m \u001b[1m0s\u001b[0m 24ms/step - accuracy: 1.0000 - loss: 0.2661 - val_accuracy: 0.5000 - val_loss: 0.7244\n",
      "Epoch 33/50\n",
      "\u001b[1m3/3\u001b[0m \u001b[32m━━━━━━━━━━━━━━━━━━━━\u001b[0m\u001b[37m\u001b[0m \u001b[1m0s\u001b[0m 25ms/step - accuracy: 1.0000 - loss: 0.2537 - val_accuracy: 0.5000 - val_loss: 0.7156\n",
      "Epoch 34/50\n",
      "\u001b[1m3/3\u001b[0m \u001b[32m━━━━━━━━━━━━━━━━━━━━\u001b[0m\u001b[37m\u001b[0m \u001b[1m0s\u001b[0m 30ms/step - accuracy: 1.0000 - loss: 0.2611 - val_accuracy: 0.5000 - val_loss: 0.7076\n",
      "Epoch 35/50\n",
      "\u001b[1m3/3\u001b[0m \u001b[32m━━━━━━━━━━━━━━━━━━━━\u001b[0m\u001b[37m\u001b[0m \u001b[1m0s\u001b[0m 22ms/step - accuracy: 1.0000 - loss: 0.2393 - val_accuracy: 0.5000 - val_loss: 0.6994\n",
      "Epoch 36/50\n",
      "\u001b[1m3/3\u001b[0m \u001b[32m━━━━━━━━━━━━━━━━━━━━\u001b[0m\u001b[37m\u001b[0m \u001b[1m0s\u001b[0m 22ms/step - accuracy: 1.0000 - loss: 0.2464 - val_accuracy: 0.5000 - val_loss: 0.6907\n",
      "Epoch 37/50\n",
      "\u001b[1m3/3\u001b[0m \u001b[32m━━━━━━━━━━━━━━━━━━━━\u001b[0m\u001b[37m\u001b[0m \u001b[1m0s\u001b[0m 27ms/step - accuracy: 1.0000 - loss: 0.2482 - val_accuracy: 0.5000 - val_loss: 0.6811\n",
      "Epoch 38/50\n",
      "\u001b[1m3/3\u001b[0m \u001b[32m━━━━━━━━━━━━━━━━━━━━\u001b[0m\u001b[37m\u001b[0m \u001b[1m0s\u001b[0m 63ms/step - accuracy: 1.0000 - loss: 0.2394 - val_accuracy: 0.5000 - val_loss: 0.6711\n",
      "Epoch 39/50\n",
      "\u001b[1m3/3\u001b[0m \u001b[32m━━━━━━━━━━━━━━━━━━━━\u001b[0m\u001b[37m\u001b[0m \u001b[1m0s\u001b[0m 25ms/step - accuracy: 1.0000 - loss: 0.2341 - val_accuracy: 0.5000 - val_loss: 0.6609\n",
      "Epoch 40/50\n",
      "\u001b[1m3/3\u001b[0m \u001b[32m━━━━━━━━━━━━━━━━━━━━\u001b[0m\u001b[37m\u001b[0m \u001b[1m0s\u001b[0m 19ms/step - accuracy: 1.0000 - loss: 0.1956 - val_accuracy: 0.5000 - val_loss: 0.6509\n",
      "Epoch 41/50\n",
      "\u001b[1m3/3\u001b[0m \u001b[32m━━━━━━━━━━━━━━━━━━━━\u001b[0m\u001b[37m\u001b[0m \u001b[1m0s\u001b[0m 23ms/step - accuracy: 1.0000 - loss: 0.1909 - val_accuracy: 0.5000 - val_loss: 0.6375\n",
      "Epoch 42/50\n",
      "\u001b[1m3/3\u001b[0m \u001b[32m━━━━━━━━━━━━━━━━━━━━\u001b[0m\u001b[37m\u001b[0m \u001b[1m0s\u001b[0m 20ms/step - accuracy: 1.0000 - loss: 0.2044 - val_accuracy: 0.5000 - val_loss: 0.6223\n",
      "Epoch 43/50\n",
      "\u001b[1m3/3\u001b[0m \u001b[32m━━━━━━━━━━━━━━━━━━━━\u001b[0m\u001b[37m\u001b[0m \u001b[1m0s\u001b[0m 20ms/step - accuracy: 1.0000 - loss: 0.1768 - val_accuracy: 0.5000 - val_loss: 0.6099\n",
      "Epoch 44/50\n",
      "\u001b[1m3/3\u001b[0m \u001b[32m━━━━━━━━━━━━━━━━━━━━\u001b[0m\u001b[37m\u001b[0m \u001b[1m0s\u001b[0m 32ms/step - accuracy: 1.0000 - loss: 0.1974 - val_accuracy: 0.6667 - val_loss: 0.5994\n",
      "Epoch 45/50\n",
      "\u001b[1m3/3\u001b[0m \u001b[32m━━━━━━━━━━━━━━━━━━━━\u001b[0m\u001b[37m\u001b[0m \u001b[1m0s\u001b[0m 19ms/step - accuracy: 1.0000 - loss: 0.1842 - val_accuracy: 0.6667 - val_loss: 0.5893\n",
      "Epoch 46/50\n",
      "\u001b[1m3/3\u001b[0m \u001b[32m━━━━━━━━━━━━━━━━━━━━\u001b[0m\u001b[37m\u001b[0m \u001b[1m0s\u001b[0m 49ms/step - accuracy: 1.0000 - loss: 0.1692 - val_accuracy: 0.6667 - val_loss: 0.5773\n",
      "Epoch 47/50\n",
      "\u001b[1m3/3\u001b[0m \u001b[32m━━━━━━━━━━━━━━━━━━━━\u001b[0m\u001b[37m\u001b[0m \u001b[1m0s\u001b[0m 24ms/step - accuracy: 1.0000 - loss: 0.1691 - val_accuracy: 0.6667 - val_loss: 0.5631\n",
      "Epoch 48/50\n",
      "\u001b[1m3/3\u001b[0m \u001b[32m━━━━━━━━━━━━━━━━━━━━\u001b[0m\u001b[37m\u001b[0m \u001b[1m0s\u001b[0m 23ms/step - accuracy: 1.0000 - loss: 0.1726 - val_accuracy: 0.6667 - val_loss: 0.5504\n",
      "Epoch 49/50\n",
      "\u001b[1m3/3\u001b[0m \u001b[32m━━━━━━━━━━━━━━━━━━━━\u001b[0m\u001b[37m\u001b[0m \u001b[1m0s\u001b[0m 49ms/step - accuracy: 1.0000 - loss: 0.1700 - val_accuracy: 0.8333 - val_loss: 0.5384\n",
      "Epoch 50/50\n",
      "\u001b[1m3/3\u001b[0m \u001b[32m━━━━━━━━━━━━━━━━━━━━\u001b[0m\u001b[37m\u001b[0m \u001b[1m0s\u001b[0m 31ms/step - accuracy: 1.0000 - loss: 0.1511 - val_accuracy: 0.8333 - val_loss: 0.5260\n",
      "\u001b[1m1/1\u001b[0m \u001b[32m━━━━━━━━━━━━━━━━━━━━\u001b[0m\u001b[37m\u001b[0m \u001b[1m0s\u001b[0m 35ms/step - accuracy: 0.6250 - loss: 1.0731\n",
      "Test Loss: 1.0731\n",
      "Test Accuracy: 0.62\n"
     ]
    },
    {
     "data": {
      "image/png": "[encoded data removed]",
      "text/plain": [
       "<Figure size 1200x500 with 2 Axes>"
      ]
     },
     "metadata": {},
     "output_type": "display_data"
    }
   ],
   "source": [
    "import pandas as pd\n",
    "import numpy as np\n",
    "from sklearn.model_selection import train_test_split\n",
    "from sklearn.preprocessing import StandardScaler, LabelEncoder\n",
    "from tensorflow.keras.models import Sequential\n",
    "from tensorflow.keras.layers import Dense\n",
    "import matplotlib.pyplot as plt\n",
    "\n",
    "# Load dataset\n",
    "data = pd.read_csv('C:\\\\Users\\\\User\\\\OneDrive\\\\Desktop\\\\repo\\\\loan_prediction1.csv')\n",
    "\n",
    "# Check for missing values\n",
    "print(\"Missing values before filling:\")\n",
    "print(data.isnull().sum())\n",
    "\n",
    "# Fill missing values or drop them\n",
    "data.dropna(axis=0, inplace=True)\n",
    "data.drop(\"Loan_ID\",axis=1,inplace=True)\n",
    "# Check again for missing values\n",
    "print(\"Missing values after filling:\")\n",
    "print(data.isnull().sum())\n",
    "\n",
    "# Encode categorical features\n",
    "label_encoder = LabelEncoder()\n",
    "categorical_columns = ['Gender', 'Married', 'Education', 'Self_Employed', 'Loan_Status']\n",
    "for column in categorical_columns:\n",
    "    data[column] = label_encoder.fit_transform(data[column])\n",
    "\n",
    "# Features and target variable\n",
    "X = data.drop('Loan_Status', axis=1)\n",
    "y = data['Loan_Status']\n",
    "\n",
    "# Split the data into training and testing sets\n",
    "X_train, X_test, y_train, y_test = train_test_split(X, y, test_size=0.2, random_state=42)\n",
    "\n",
    "# Scale features\n",
    "scaler = StandardScaler()\n",
    "X_train = scaler.fit_transform(X_train)\n",
    "X_test = scaler.transform(X_test)\n",
    "\n",
    "# Build the model\n",
    "model = Sequential()\n",
    "model.add(Dense(32, activation='relu', input_shape=(X_train.shape[1],)))\n",
    "model.add(Dense(16, activation='relu'))\n",
    "model.add(Dense(1, activation='sigmoid'))  # Sigmoid for binary classification\n",
    "\n",
    "# Compile the model\n",
    "model.compile(optimizer='adam', loss='binary_crossentropy', metrics=['accuracy'])\n",
    "\n",
    "# Train the model and store the history\n",
    "history = model.fit(X_train, y_train, epochs=50, batch_size=10, validation_split=0.2)\n",
    "\n",
    "# Evaluate the model on test data and print both loss and accuracy\n",
    "test_loss, test_accuracy = model.evaluate(X_test, y_test)\n",
    "print(f'Test Loss: {test_loss:.4f}')\n",
    "print(f'Test Accuracy: {test_accuracy:.2f}')\n",
    "\n",
    "# Plotting loss and accuracy\n",
    "plt.figure(figsize=(12, 5))\n",
    "\n",
    "# Plot training & validation loss values\n",
    "plt.subplot(1, 2, 1)\n",
    "plt.plot(history.history['loss'], label='Train Loss')\n",
    "plt.plot(history.history['val_loss'], label='Validation Loss')\n",
    "plt.title('Model Loss')\n",
    "plt.ylabel('Loss')\n",
    "plt.xlabel('Epoch')\n",
    "plt.legend(loc='upper right')\n",
    "\n",
    "# Plot training & validation accuracy values\n",
    "plt.subplot(1, 2, 2)\n",
    "plt.plot(history.history['accuracy'], label='Train Accuracy')\n",
    "plt.plot(history.history['val_accuracy'], label='Validation Accuracy')\n",
    "plt.title('Model Accuracy')\n",
    "plt.ylabel('Accuracy')\n",
    "plt.xlabel('Epoch')\n",
    "plt.legend(loc='lower right')\n",
    "\n",
    "plt.tight_layout()\n",
    "plt.show()"
   ]
  },
  {
   "cell_type": "markdown",
   "id": "4795e9d0-53b9-4aeb-9bd7-eab97fd23c39",
   "metadata": {},
   "source": [
    "## b) Regression"
   ]
  },
  {
   "cell_type": "markdown",
   "id": "81d21075-b050-4992-a7e9-8107da8f4cee",
   "metadata": {},
   "source": [
    "## Detect missing values with pandas dataframe."
   ]
  },
  {
   "cell_type": "code",
   "execution_count": 19,
   "id": "18d78de4-7a91-41e1-b77e-2f21ca2be6bb",
   "metadata": {},
   "outputs": [
    {
     "name": "stdout",
     "output_type": "stream",
     "text": [
      "<class 'pandas.core.frame.DataFrame'>\n",
      "RangeIndex: 50 entries, 0 to 49\n",
      "Data columns (total 16 columns):\n",
      " #   Column                       Non-Null Count  Dtype  \n",
      "---  ------                       --------------  -----  \n",
      " 0   Customer ID                  50 non-null     object \n",
      " 1   Name                         50 non-null     object \n",
      " 2   Gender                       50 non-null     object \n",
      " 3   Age                          50 non-null     int64  \n",
      " 4   Income (USD)                 46 non-null     float64\n",
      " 5   Profession                   50 non-null     object \n",
      " 6   Location                     50 non-null     object \n",
      " 7   Loan Amount Request (USD)    50 non-null     float64\n",
      " 8   Current Loan Expenses (USD)  50 non-null     float64\n",
      " 9   Credit Score                 49 non-null     float64\n",
      " 10  Has Active Credit Card       46 non-null     object \n",
      " 11  Property ID                  50 non-null     int64  \n",
      " 12  Property Age                 46 non-null     float64\n",
      " 13  Property Location            50 non-null     object \n",
      " 14  Property Price               50 non-null     float64\n",
      " 15  Loan Sanction Amount (INR)   50 non-null     float64\n",
      "dtypes: float64(7), int64(2), object(7)\n",
      "memory usage: 6.4+ KB\n",
      "\n",
      "\n",
      "\n",
      "is_na:\n",
      "\n",
      "    Customer ID   Name  Gender    Age  Income (USD)  Profession  Location  \\\n",
      "0        False  False   False  False         False       False     False   \n",
      "1        False  False   False  False         False       False     False   \n",
      "2        False  False   False  False         False       False     False   \n",
      "3        False  False   False  False          True       False     False   \n",
      "4        False  False   False  False         False       False     False   \n",
      "5        False  False   False  False         False       False     False   \n",
      "6        False  False   False  False         False       False     False   \n",
      "\n",
      "   Loan Amount Request (USD)  Current Loan Expenses (USD)  Credit Score  \\\n",
      "0                      False                        False         False   \n",
      "1                      False                        False         False   \n",
      "2                      False                        False         False   \n",
      "3                      False                        False         False   \n",
      "4                      False                        False         False   \n",
      "5                      False                        False         False   \n",
      "6                      False                        False         False   \n",
      "\n",
      "   Has Active Credit Card  Property ID  Property Age  Property Location  \\\n",
      "0                    True        False         False              False   \n",
      "1                   False        False         False              False   \n",
      "2                   False        False         False              False   \n",
      "3                   False        False          True              False   \n",
      "4                   False        False         False              False   \n",
      "5                   False        False         False              False   \n",
      "6                   False        False         False              False   \n",
      "\n",
      "   Property Price  Loan Sanction Amount (INR)  \n",
      "0           False                       False  \n",
      "1           False                       False  \n",
      "2           False                       False  \n",
      "3           False                       False  \n",
      "4           False                       False  \n",
      "5           False                       False  \n",
      "6           False                       False  \n",
      "\n",
      "\n",
      "\n",
      "Count of all Missing values:\n",
      "\n",
      " Customer ID                    0\n",
      "Name                           0\n",
      "Gender                         0\n",
      "Age                            0\n",
      "Income (USD)                   4\n",
      "Profession                     0\n",
      "Location                       0\n",
      "Loan Amount Request (USD)      0\n",
      "Current Loan Expenses (USD)    0\n",
      "Credit Score                   1\n",
      "Has Active Credit Card         4\n",
      "Property ID                    0\n",
      "Property Age                   4\n",
      "Property Location              0\n",
      "Property Price                 0\n",
      "Loan Sanction Amount (INR)     0\n",
      "dtype: int64\n"
     ]
    }
   ],
   "source": [
    "import pandas as p\n",
    "df=p.read_csv(\"C:\\\\Users\\\\User\\\\OneDrive\\\\Desktop\\\\repo\\\\loanno_reg1.csv\")\n",
    "info=df.info()\n",
    "print(\"\\n\\n\\nis_na:\\n\\n\",df.isna().head(7))\n",
    "is_null_su=df.isna().sum()\n",
    "print(\"\\n\\n\\nCount of all Missing values:\\n\\n\",df.isna().sum())"
   ]
  },
  {
   "cell_type": "markdown",
   "id": "a5dbfbad-bb07-49eb-8719-1b32a3fb467f",
   "metadata": {},
   "source": [
    "## Replacing with values"
   ]
  },
  {
   "cell_type": "code",
   "execution_count": 25,
   "id": "05125d97-37ee-4157-92ab-685cd334e4e9",
   "metadata": {},
   "outputs": [
    {
     "name": "stdout",
     "output_type": "stream",
     "text": [
      "Customer ID                    0\n",
      "Name                           0\n",
      "Gender                         0\n",
      "Age                            0\n",
      "Income (USD)                   4\n",
      "Profession                     0\n",
      "Location                       0\n",
      "Loan Amount Request (USD)      0\n",
      "Current Loan Expenses (USD)    0\n",
      "Credit Score                   1\n",
      "Has Active Credit Card         4\n",
      "Property ID                    0\n",
      "Property Age                   4\n",
      "Property Location              0\n",
      "Property Price                 0\n",
      "Loan Sanction Amount (INR)     0\n",
      "dtype: int64\n",
      "\n",
      "\n",
      "\n",
      "\n",
      "Customer ID                    0\n",
      "Name                           0\n",
      "Gender                         0\n",
      "Age                            0\n",
      "Income (USD)                   0\n",
      "Profession                     0\n",
      "Location                       0\n",
      "Loan Amount Request (USD)      0\n",
      "Current Loan Expenses (USD)    0\n",
      "Credit Score                   0\n",
      "Has Active Credit Card         0\n",
      "Property ID                    0\n",
      "Property Age                   0\n",
      "Property Location              0\n",
      "Property Price                 0\n",
      "Loan Sanction Amount (INR)     0\n",
      "dtype: int64\n"
     ]
    }
   ],
   "source": [
    "import numpy as n\n",
    "df=p.read_csv(\"C:\\\\Users\\\\User\\\\OneDrive\\\\Desktop\\\\repo\\\\loanno_reg1.csv\")\n",
    "print(df.isna().sum())\n",
    "df=df.replace({n.nan:-1})\n",
    "print(\"\\n\\n\\n\")\n",
    "print(df.isna().sum())"
   ]
  },
  {
   "cell_type": "markdown",
   "id": "3eec068f-fdd7-485c-a70b-a7e9b559bbed",
   "metadata": {},
   "source": [
    "## Covarience and correlation"
   ]
  },
  {
   "cell_type": "code",
   "execution_count": 31,
   "id": "f065adc0-f4e5-4935-b996-68ab4618b641",
   "metadata": {},
   "outputs": [
    {
     "name": "stdout",
     "output_type": "stream",
     "text": [
      "Covariance Matrix:\n",
      "                           Income (USD)  Loan Amount Request (USD)\n",
      "Income (USD)               2.442412e+06               1.865142e+07\n",
      "Loan Amount Request (USD)  1.865142e+07               2.914031e+09\n",
      "\n",
      "\n",
      "Correlation Matrix:\n",
      "                           Income (USD)  Loan Amount Request (USD)\n",
      "Income (USD)                   1.000000                   0.221083\n",
      "Loan Amount Request (USD)      0.221083                   1.000000\n"
     ]
    }
   ],
   "source": [
    "# Select numeric columns for covariance and correlation calculations\n",
    "numeric_columns = [\n",
    "     'Income (USD)', 'Loan Amount Request (USD)'\n",
    "]\n",
    "\n",
    "# Drop rows with missing values in the selected columns\n",
    "df_numeric = df[numeric_columns].dropna()\n",
    "\n",
    "# Calculate covariance matrix\n",
    "cov_matrix = df_numeric.cov()\n",
    "print(\"Covariance Matrix:\")\n",
    "print(cov_matrix)\n",
    "print(\"\\n\")\n",
    "# Calculate correlation matrix\n",
    "corr_matrix = df_numeric.corr()\n",
    "print(\"Correlation Matrix:\")\n",
    "print(corr_matrix)"
   ]
  },
  {
   "cell_type": "markdown",
   "id": "6075ba28-5450-44d1-a0dc-3a18a7f955e1",
   "metadata": {},
   "source": [
    "## Removing the attributes with missing values"
   ]
  },
  {
   "cell_type": "code",
   "execution_count": 33,
   "id": "40905a36-0987-4450-8502-800984213d18",
   "metadata": {},
   "outputs": [
    {
     "name": "stdout",
     "output_type": "stream",
     "text": [
      "\n",
      "Before Droping:\n",
      "\n",
      "<class 'pandas.core.frame.DataFrame'>\n",
      "RangeIndex: 50 entries, 0 to 49\n",
      "Data columns (total 16 columns):\n",
      " #   Column                       Non-Null Count  Dtype  \n",
      "---  ------                       --------------  -----  \n",
      " 0   Customer ID                  50 non-null     object \n",
      " 1   Name                         50 non-null     object \n",
      " 2   Gender                       50 non-null     object \n",
      " 3   Age                          50 non-null     int64  \n",
      " 4   Income (USD)                 46 non-null     float64\n",
      " 5   Profession                   50 non-null     object \n",
      " 6   Location                     50 non-null     object \n",
      " 7   Loan Amount Request (USD)    50 non-null     float64\n",
      " 8   Current Loan Expenses (USD)  50 non-null     float64\n",
      " 9   Credit Score                 49 non-null     float64\n",
      " 10  Has Active Credit Card       46 non-null     object \n",
      " 11  Property ID                  50 non-null     int64  \n",
      " 12  Property Age                 46 non-null     float64\n",
      " 13  Property Location            50 non-null     object \n",
      " 14  Property Price               50 non-null     float64\n",
      " 15  Loan Sanction Amount (INR)   50 non-null     float64\n",
      "dtypes: float64(7), int64(2), object(7)\n",
      "memory usage: 6.4+ KB\n",
      "\n",
      "\n",
      "After Droping:\n",
      "\n",
      "<class 'pandas.core.frame.DataFrame'>\n",
      "RangeIndex: 50 entries, 0 to 49\n",
      "Data columns (total 12 columns):\n",
      " #   Column                       Non-Null Count  Dtype  \n",
      "---  ------                       --------------  -----  \n",
      " 0   Customer ID                  50 non-null     object \n",
      " 1   Name                         50 non-null     object \n",
      " 2   Gender                       50 non-null     object \n",
      " 3   Age                          50 non-null     int64  \n",
      " 4   Profession                   50 non-null     object \n",
      " 5   Location                     50 non-null     object \n",
      " 6   Loan Amount Request (USD)    50 non-null     float64\n",
      " 7   Current Loan Expenses (USD)  50 non-null     float64\n",
      " 8   Property ID                  50 non-null     int64  \n",
      " 9   Property Location            50 non-null     object \n",
      " 10  Property Price               50 non-null     float64\n",
      " 11  Loan Sanction Amount (INR)   50 non-null     float64\n",
      "dtypes: float64(4), int64(2), object(6)\n",
      "memory usage: 4.8+ KB\n"
     ]
    }
   ],
   "source": [
    "import pandas as p\n",
    "df=p.read_csv(\"C:\\\\Users\\\\User\\\\OneDrive\\\\Desktop\\\\repo\\\\loanno_reg1.csv\")\n",
    "print(\"\\nBefore Droping:\\n\")\n",
    "df.info()\n",
    "df=df.dropna(axis=1)\n",
    "print('\\n\\nAfter Droping:\\n')\n",
    "df.info()"
   ]
  },
  {
   "cell_type": "markdown",
   "id": "0aa0d90d-5f6e-440e-9cd5-b55c3675fc38",
   "metadata": {},
   "source": [
    "## Replacing with Mean Value"
   ]
  },
  {
   "cell_type": "code",
   "execution_count": 37,
   "id": "ba23f327-4b0b-4dd9-8bab-1246a608798f",
   "metadata": {},
   "outputs": [
    {
     "name": "stdout",
     "output_type": "stream",
     "text": [
      "Before Replacing:\n",
      "\n",
      " 0    1933.05\n",
      "1    4952.91\n",
      "2     988.19\n",
      "3        NaN\n",
      "4    2614.77\n",
      "5    1234.92\n",
      "6    2361.56\n",
      "7        NaN\n",
      "Name: Income (USD), dtype: float64\n",
      "\n",
      "Mean of 'Income (USD)' Column: 2576.8671739130436\n",
      "\n",
      "After Replacing with Mean:\n",
      "\n",
      " 0    1933.050000\n",
      "1    4952.910000\n",
      "2     988.190000\n",
      "3    2576.867174\n",
      "4    2614.770000\n",
      "5    1234.920000\n",
      "6    2361.560000\n",
      "7    2576.867174\n",
      "Name: Income (USD), dtype: float64\n"
     ]
    }
   ],
   "source": [
    "df=p.read_csv(\"C:\\\\Users\\\\User\\\\OneDrive\\\\Desktop\\\\repo\\\\loanno_reg1.csv\")\n",
    "df['Income (USD)'] = p.to_numeric(df['Income (USD)'], errors='coerce')\n",
    "print(\"Before Replacing:\\n\\n\",df['Income (USD)'].head(8))\n",
    "print(\"\\nMean of 'Income (USD)' Column:\",df['Income (USD)'].mean())\n",
    "dp=df['Income (USD)'].fillna(df['Income (USD)'].mean())\n",
    "print(\"\\nAfter Replacing with Mean:\\n\\n\",dp.head(8))"
   ]
  },
  {
   "cell_type": "markdown",
   "id": "7f4466d2-d692-4cce-9996-024e6784ec52",
   "metadata": {},
   "source": [
    "## Replacing with Median Value"
   ]
  },
  {
   "cell_type": "code",
   "execution_count": 41,
   "id": "ecd1eb5f-4ceb-445c-8900-e699aafd21dc",
   "metadata": {},
   "outputs": [
    {
     "name": "stdout",
     "output_type": "stream",
     "text": [
      "Before Replacing:\n",
      "\n",
      " 0    1933.05\n",
      "1    4952.91\n",
      "2     988.19\n",
      "3        NaN\n",
      "4    2614.77\n",
      "5    1234.92\n",
      "6    2361.56\n",
      "7        NaN\n",
      "Name: Income (USD), dtype: float64\n",
      "\n",
      "Median of 'Income (USD)' Column: 2354.2200000000003\n",
      "\n",
      "After Replacing with Mean:\n",
      "\n",
      " 0    1933.050000\n",
      "1    4952.910000\n",
      "2     988.190000\n",
      "3    2576.867174\n",
      "4    2614.770000\n",
      "5    1234.920000\n",
      "6    2361.560000\n",
      "7    2576.867174\n",
      "Name: Income (USD), dtype: float64\n"
     ]
    }
   ],
   "source": [
    "df=p.read_csv(\"C:\\\\Users\\\\User\\\\OneDrive\\\\Desktop\\\\repo\\\\loanno_reg1.csv\")\n",
    "df['Income (USD)'] = p.to_numeric(df['Income (USD)'], errors='coerce')\n",
    "print(\"Before Replacing:\\n\\n\",df['Income (USD)'].head(8))\n",
    "print(\"\\nMedian of 'Income (USD)' Column:\",df['Income (USD)'].median())\n",
    "dp=df['Income (USD)'].fillna(df['Income (USD)'].mean())\n",
    "print(\"\\nAfter Replacing with Mean:\\n\\n\",dp.head(8))"
   ]
  },
  {
   "cell_type": "markdown",
   "id": "e7185ab7-57f6-49b4-a4bd-982f0d3ed058",
   "metadata": {},
   "source": [
    "## Replacing with Mode Value"
   ]
  },
  {
   "cell_type": "code",
   "execution_count": 47,
   "id": "2995fc95-239d-4214-8bc1-7140cbce8433",
   "metadata": {},
   "outputs": [
    {
     "name": "stdout",
     "output_type": "stream",
     "text": [
      "Before Replacing:\n",
      "\n",
      " 0    1933.05\n",
      "1    4952.91\n",
      "2     988.19\n",
      "3        NaN\n",
      "4    2614.77\n",
      "5    1234.92\n",
      "6    2361.56\n",
      "Name: Income (USD), dtype: float64\n",
      "\n",
      "Mode of 'Income (USD)' Column: 700.07\n",
      "\n",
      "After Replacing with Mode:\n",
      "\n",
      " 0    1933.05\n",
      "1    4952.91\n",
      "2     988.19\n",
      "3     700.07\n",
      "4    2614.77\n",
      "5    1234.92\n",
      "6    2361.56\n",
      "Name: Income (USD), dtype: float64\n"
     ]
    }
   ],
   "source": [
    "f=p.read_csv(\"C:\\\\Users\\\\User\\\\OneDrive\\\\Desktop\\\\repo\\\\loanno_reg1.csv\")\n",
    "df['Income (USD)'] = p.to_numeric(df['Income (USD)'], errors='coerce')\n",
    "print(\"Before Replacing:\\n\\n\",df['Income (USD)'].head(7))\n",
    "print(\"\\nMode of 'Income (USD)' Column:\",df['Income (USD)'].mode()[0])\n",
    "dp=df['Income (USD)'].fillna(df['Income (USD)'].mode()[0])\n",
    "print(\"\\nAfter Replacing with Mode:\\n\\n\",dp.head(7))\n"
   ]
  },
  {
   "cell_type": "markdown",
   "id": "5954a37f-a59e-416c-89e7-7fe7d28b1cbb",
   "metadata": {},
   "source": [
    "## Univariate Outliers"
   ]
  },
  {
   "cell_type": "code",
   "execution_count": 51,
   "id": "79e78bef-c210-4d7d-89b8-de9d492d90a5",
   "metadata": {},
   "outputs": [
    {
     "name": "stdout",
     "output_type": "stream",
     "text": [
      "Identified Outliers:\n",
      "    Customer ID               Name Gender  Age  Income (USD)  \\\n",
      "1      C-33999  America Calderone      M   32       4952.91   \n",
      "27     C-44863     Gerard Forsman      F   18       5350.94   \n",
      "36     C-21055    Travis Priester      F   61       5302.28   \n",
      "39     C-24451     Margareta Wind      M   18       7885.56   \n",
      "41     C-48527       Mana Chattin      F   54       5330.72   \n",
      "\n",
      "              Profession    Location  Loan Amount Request (USD)  \\\n",
      "1                Working  Semi-Urban                   46837.47   \n",
      "27  Commercial associate  Semi-Urban                   99492.44   \n",
      "36               Working       Rural                  186715.38   \n",
      "39  Commercial associate       Urban                  121963.50   \n",
      "41               Working  Semi-Urban                  133531.81   \n",
      "\n",
      "    Current Loan Expenses (USD)  Credit Score Has Active Credit Card  \\\n",
      "1                        495.81        780.40            Unpossessed   \n",
      "27                       516.71        733.68               Inactive   \n",
      "36                       527.81        748.38                 Active   \n",
      "39                       587.80        721.18            Unpossessed   \n",
      "41                       535.77        861.21                 Active   \n",
      "\n",
      "    Property ID  Property Age Property Location  Property Price  \\\n",
      "1           608       4952.91             Rural        54791.00   \n",
      "27          344       5350.94             Rural       188950.33   \n",
      "36           43       5302.28        Semi-Urban       270558.30   \n",
      "39          530       7885.56             Urban       142645.25   \n",
      "41          467       5330.72             Urban       170214.99   \n",
      "\n",
      "    Loan Sanction Amount (INR)  \n",
      "1                     37469.98  \n",
      "27                        0.00  \n",
      "36                   121365.00  \n",
      "39                    85374.45  \n",
      "41                   100148.86  \n",
      "\n",
      "Original DataFrame shape: (50, 16)\n",
      "DataFrame shape after removing outliers: (41, 16)\n"
     ]
    },
    {
     "data": {
      "image/png": "[encoded data removed]",
      "text/plain": [
       "<Figure size 1000x600 with 1 Axes>"
      ]
     },
     "metadata": {},
     "output_type": "display_data"
    }
   ],
   "source": [
    "import pandas as p\n",
    "import matplotlib.pyplot as plt\n",
    "import seaborn as sns\n",
    "df = p.read_csv(\"C:\\\\Users\\\\User\\\\OneDrive\\\\Desktop\\\\repo\\\\loanno_reg1.csv\")\n",
    "df['Income (USD)'] = p.to_numeric(df['Income (USD)'], errors='coerce')\n",
    "Q1 = df['Income (USD)'].quantile(0.25)\n",
    "Q3 = df['Income (USD)'].quantile(0.75)\n",
    "IQR = Q3 - Q1\n",
    "lower_bound = Q1 - 1.5 * IQR\n",
    "upper_bound = Q3 + 1.5 * IQR\n",
    "outliers = df[(df['Income (USD)'] < lower_bound) | (df['Income (USD)'] > upper_bound)]\n",
    "print(\"Identified Outliers:\\n\", outliers)\n",
    "df_no_outliers = df[(df['Income (USD)'] >= lower_bound) & (df['Income (USD)'] <= upper_bound)]\n",
    "print(\"\\nOriginal DataFrame shape:\", df.shape)\n",
    "print(\"DataFrame shape after removing outliers:\", df_no_outliers.shape)\n",
    "plt.figure(figsize=(10, 6))\n",
    "sns.boxplot(df['Income (USD)'])\n",
    "plt.xlabel('Income (USD)')\n",
    "plt.ylabel('values')\n",
    "plt.title('Boxplot of Income (USD)')\n",
    "plt.show()"
   ]
  },
  {
   "cell_type": "markdown",
   "id": "e0d62e70-2813-4bcb-8850-480900928b97",
   "metadata": {},
   "source": [
    "## Multivariate Outliers"
   ]
  },
  {
   "cell_type": "code",
   "execution_count": 113,
   "id": "1862a578-c0f3-4484-8c99-551df8ba1d8b",
   "metadata": {},
   "outputs": [
    {
     "data": {
      "image/png": "[encoded data removed]",
      "text/plain": [
       "<Figure size 1200x600 with 1 Axes>"
      ]
     },
     "metadata": {},
     "output_type": "display_data"
    }
   ],
   "source": [
    "import pandas as pd\n",
    "import matplotlib.pyplot as plt\n",
    "df = pd.read_csv(\"C:\\\\Users\\\\User\\\\OneDrive\\\\Desktop\\\\repo\\\\loanno_reg1.csv\")\n",
    "df['Income (USD)'] = pd.to_numeric(df['Income (USD)'], errors='coerce')\n",
    "plt.figure(figsize=(12, 6))\n",
    "plt.subplot(1, 1, 1)\n",
    "plt.boxplot(df['Income (USD)'].dropna(), vert=False)\n",
    "plt.title('Boxplot of Income (USD)')\n",
    "plt.xlabel('Income (USD)')\n",
    "plt.show()"
   ]
  },
  {
   "cell_type": "markdown",
   "id": "c4494b90-e01b-426a-846d-837c954dddad",
   "metadata": {},
   "source": [
    "## Standard Deviation"
   ]
  },
  {
   "cell_type": "code",
   "execution_count": 57,
   "id": "672a93c9-ad15-41b6-9992-039117365c1a",
   "metadata": {},
   "outputs": [
    {
     "name": "stdout",
     "output_type": "stream",
     "text": [
      "Standard Deviation of Loan Amount Request (USD): 53981.76807153175\n"
     ]
    }
   ],
   "source": [
    "import pandas as pd\n",
    "df = pd.read_csv(\"C:\\\\Users\\\\User\\\\OneDrive\\\\Desktop\\\\repo\\\\loanno_reg1.csv\")\n",
    "df['Loan Amount Request (USD)'] = pd.to_numeric(df['Loan Amount Request (USD)'], errors='coerce')\n",
    "std = df['Loan Amount Request (USD)'].std()\n",
    "print(\"Standard Deviation of Loan Amount Request (USD):\", std)\n"
   ]
  },
  {
   "cell_type": "markdown",
   "id": "a2f2af39-6b29-4961-845d-d4a362c3da0d",
   "metadata": {},
   "source": [
    "## Perform SVC/SVR , Random Forest Regressor/Random Forest Classifier for Mini Project (both Regression and Classification Datasets)"
   ]
  },
  {
   "cell_type": "code",
   "execution_count": 6,
   "id": "b626fc99-a0be-4668-a7b7-29759a3f24db",
   "metadata": {},
   "outputs": [
    {
     "name": "stdout",
     "output_type": "stream",
     "text": [
      "Accuracy of RandomForestRegressor:  0.45704374042937523\n"
     ]
    }
   ],
   "source": [
    "import pandas as p\n",
    "from sklearn.model_selection import train_test_split as ttp\n",
    "from sklearn.ensemble import RandomForestRegressor\n",
    "from sklearn.svm import SVR\n",
    "from sklearn.metrics import r2_score\n",
    "from sklearn.preprocessing import LabelEncoder\n",
    "data = p.read_csv(\"C:\\\\Users\\\\User\\\\OneDrive\\\\Desktop\\\\repo\\\\loanno_reg1.csv\")\n",
    "data.drop(['Customer ID','Name'],axis=1, inplace=True)\n",
    "data.dropna(axis=0,inplace=True)\n",
    "labelencoder = LabelEncoder()\n",
    "for column in ['Gender', 'Profession', 'Location', 'Has Active Credit Card', 'Property Location']:\n",
    "    data[column] = labelencoder.fit_transform(data[column])\n",
    "x = data.drop(columns=['Loan Sanction Amount (INR)'])  \n",
    "Y=data['Loan Sanction Amount (INR)']\n",
    "x_train, x_test, Y_train, Y_test = ttp(x, Y, test_size=0.3, random_state=42)\n",
    "model3 = RandomForestRegressor()\n",
    "model3.fit(x_train, Y_train)\n",
    "Y_pred3 = model3.predict(x_test)\n",
    "print(\"Accuracy of RandomForestRegressor: \",r2_score(Y_test,Y_pred3))"
   ]
  },
  {
   "cell_type": "code",
   "execution_count": 9,
   "id": "409ba2ee-4a9b-49ae-b655-ee554407fbf6",
   "metadata": {},
   "outputs": [
    {
     "name": "stdout",
     "output_type": "stream",
     "text": [
      "Accuracy of SupportVectorRegressor:  -0.027346448476955443\n"
     ]
    }
   ],
   "source": [
    "model4 = SVR(kernel='rbf')\n",
    "model4.fit(x_train, Y_train)\n",
    "Y_pred4 = model4.predict(x_test)\n",
    "print(\"Accuracy of SupportVectorRegressor: \",r2_score(Y_test,Y_pred4))"
   ]
  },
  {
   "cell_type": "markdown",
   "id": "d4be24bd-6e0a-477a-909b-91a34c6af108",
   "metadata": {},
   "source": [
    "## Applying Deep Learning on Regression Dataset"
   ]
  },
  {
   "cell_type": "code",
   "execution_count": 18,
   "id": "3afa23d2-e3cc-458b-ae6d-77a6bb7345d6",
   "metadata": {},
   "outputs": [
    {
     "name": "stdout",
     "output_type": "stream",
     "text": [
      "Missing values before filling:\n",
      "Customer ID                    0\n",
      "Name                           0\n",
      "Gender                         0\n",
      "Age                            0\n",
      "Income (USD)                   4\n",
      "Profession                     0\n",
      "Location                       0\n",
      "Loan Amount Request (USD)      0\n",
      "Current Loan Expenses (USD)    0\n",
      "Credit Score                   1\n",
      "Has Active Credit Card         4\n",
      "Property ID                    0\n",
      "Property Age                   4\n",
      "Property Location              0\n",
      "Property Price                 0\n",
      "Loan Sanction Amount (INR)     0\n",
      "dtype: int64\n",
      "Missing values after filling:\n",
      "Customer ID                    0\n",
      "Name                           0\n",
      "Gender                         0\n",
      "Age                            0\n",
      "Income (USD)                   0\n",
      "Profession                     0\n",
      "Location                       0\n",
      "Loan Amount Request (USD)      0\n",
      "Current Loan Expenses (USD)    0\n",
      "Credit Score                   0\n",
      "Property ID                    0\n",
      "Property Age                   0\n",
      "Property Location              0\n",
      "Property Price                 0\n",
      "Loan Sanction Amount (INR)     0\n",
      "dtype: int64\n"
     ]
    },
    {
     "name": "stderr",
     "output_type": "stream",
     "text": [
      "C:\\Users\\User\\anaconda\\Lib\\site-packages\\keras\\src\\layers\\core\\dense.py:87: UserWarning: Do not pass an `input_shape`/`input_dim` argument to a layer. When using Sequential models, prefer using an `Input(shape)` object as the first layer in the model instead.\n",
      "  super().__init__(activity_regularizer=activity_regularizer, **kwargs)\n"
     ]
    },
    {
     "name": "stdout",
     "output_type": "stream",
     "text": [
      "Epoch 1/50\n",
      "\u001b[1m3/3\u001b[0m \u001b[32m━━━━━━━━━━━━━━━━━━━━\u001b[0m\u001b[37m\u001b[0m \u001b[1m3s\u001b[0m 145ms/step - loss: 3369051904.0000 - mae: 41337.9766 - val_loss: 1943056384.0000 - val_mae: 29011.9746\n",
      "Epoch 2/50\n",
      "\u001b[1m3/3\u001b[0m \u001b[32m━━━━━━━━━━━━━━━━━━━━\u001b[0m\u001b[37m\u001b[0m \u001b[1m0s\u001b[0m 20ms/step - loss: 3437336064.0000 - mae: 42607.4141 - val_loss: 1943050496.0000 - val_mae: 29011.9199\n",
      "Epoch 3/50\n",
      "\u001b[1m3/3\u001b[0m \u001b[32m━━━━━━━━━━━━━━━━━━━━\u001b[0m\u001b[37m\u001b[0m \u001b[1m0s\u001b[0m 27ms/step - loss: 3490578432.0000 - mae: 44346.5781 - val_loss: 1943044992.0000 - val_mae: 29011.9121\n",
      "Epoch 4/50\n",
      "\u001b[1m3/3\u001b[0m \u001b[32m━━━━━━━━━━━━━━━━━━━━\u001b[0m\u001b[37m\u001b[0m \u001b[1m0s\u001b[0m 21ms/step - loss: 3436893696.0000 - mae: 44000.4727 - val_loss: 1943039616.0000 - val_mae: 29011.8945\n",
      "Epoch 5/50\n",
      "\u001b[1m3/3\u001b[0m \u001b[32m━━━━━━━━━━━━━━━━━━━━\u001b[0m\u001b[37m\u001b[0m \u001b[1m0s\u001b[0m 19ms/step - loss: 4026923264.0000 - mae: 44997.7930 - val_loss: 1943033984.0000 - val_mae: 29011.8789\n",
      "Epoch 6/50\n",
      "\u001b[1m3/3\u001b[0m \u001b[32m━━━━━━━━━━━━━━━━━━━━\u001b[0m\u001b[37m\u001b[0m \u001b[1m0s\u001b[0m 22ms/step - loss: 3854118144.0000 - mae: 44218.5977 - val_loss: 1943028352.0000 - val_mae: 29011.8613\n",
      "Epoch 7/50\n",
      "\u001b[1m3/3\u001b[0m \u001b[32m━━━━━━━━━━━━━━━━━━━━\u001b[0m\u001b[37m\u001b[0m \u001b[1m0s\u001b[0m 25ms/step - loss: 3898780928.0000 - mae: 45412.2695 - val_loss: 1943022336.0000 - val_mae: 29011.8477\n",
      "Epoch 8/50\n",
      "\u001b[1m3/3\u001b[0m \u001b[32m━━━━━━━━━━━━━━━━━━━━\u001b[0m\u001b[37m\u001b[0m \u001b[1m0s\u001b[0m 21ms/step - loss: 3389690368.0000 - mae: 42043.0156 - val_loss: 1943015680.0000 - val_mae: 29011.8320\n",
      "Epoch 9/50\n",
      "\u001b[1m3/3\u001b[0m \u001b[32m━━━━━━━━━━━━━━━━━━━━\u001b[0m\u001b[37m\u001b[0m \u001b[1m0s\u001b[0m 22ms/step - loss: 3781325312.0000 - mae: 44490.4336 - val_loss: 1943008384.0000 - val_mae: 29011.8242\n",
      "Epoch 10/50\n",
      "\u001b[1m3/3\u001b[0m \u001b[32m━━━━━━━━━━━━━━━━━━━━\u001b[0m\u001b[37m\u001b[0m \u001b[1m0s\u001b[0m 21ms/step - loss: 3525952000.0000 - mae: 43486.4609 - val_loss: 1942999680.0000 - val_mae: 29011.8086\n",
      "Epoch 11/50\n",
      "\u001b[1m3/3\u001b[0m \u001b[32m━━━━━━━━━━━━━━━━━━━━\u001b[0m\u001b[37m\u001b[0m \u001b[1m0s\u001b[0m 23ms/step - loss: 3766663168.0000 - mae: 42696.2031 - val_loss: 1942990208.0000 - val_mae: 29011.7930\n",
      "Epoch 12/50\n",
      "\u001b[1m3/3\u001b[0m \u001b[32m━━━━━━━━━━━━━━━━━━━━\u001b[0m\u001b[37m\u001b[0m \u001b[1m0s\u001b[0m 23ms/step - loss: 3119109120.0000 - mae: 40675.7812 - val_loss: 1942979328.0000 - val_mae: 29011.7695\n",
      "Epoch 13/50\n",
      "\u001b[1m3/3\u001b[0m \u001b[32m━━━━━━━━━━━━━━━━━━━━\u001b[0m\u001b[37m\u001b[0m \u001b[1m0s\u001b[0m 28ms/step - loss: 3393017344.0000 - mae: 44339.6914 - val_loss: 1942966400.0000 - val_mae: 29011.7441\n",
      "Epoch 14/50\n",
      "\u001b[1m3/3\u001b[0m \u001b[32m━━━━━━━━━━━━━━━━━━━━\u001b[0m\u001b[37m\u001b[0m \u001b[1m0s\u001b[0m 25ms/step - loss: 3727365120.0000 - mae: 45919.6953 - val_loss: 1942952576.0000 - val_mae: 29011.7148\n",
      "Epoch 15/50\n",
      "\u001b[1m3/3\u001b[0m \u001b[32m━━━━━━━━━━━━━━━━━━━━\u001b[0m\u001b[37m\u001b[0m \u001b[1m0s\u001b[0m 25ms/step - loss: 4078576128.0000 - mae: 50296.6094 - val_loss: 1942936960.0000 - val_mae: 29011.6836\n",
      "Epoch 16/50\n",
      "\u001b[1m3/3\u001b[0m \u001b[32m━━━━━━━━━━━━━━━━━━━━\u001b[0m\u001b[37m\u001b[0m \u001b[1m0s\u001b[0m 91ms/step - loss: 3990332928.0000 - mae: 44435.5586 - val_loss: 1942920192.0000 - val_mae: 29011.6523\n",
      "Epoch 17/50\n",
      "\u001b[1m3/3\u001b[0m \u001b[32m━━━━━━━━━━━━━━━━━━━━\u001b[0m\u001b[37m\u001b[0m \u001b[1m0s\u001b[0m 24ms/step - loss: 3141701632.0000 - mae: 39191.7188 - val_loss: 1942901888.0000 - val_mae: 29011.6152\n",
      "Epoch 18/50\n",
      "\u001b[1m3/3\u001b[0m \u001b[32m━━━━━━━━━━━━━━━━━━━━\u001b[0m\u001b[37m\u001b[0m \u001b[1m0s\u001b[0m 21ms/step - loss: 3444718848.0000 - mae: 41317.6289 - val_loss: 1942880896.0000 - val_mae: 29011.5664\n",
      "Epoch 19/50\n",
      "\u001b[1m3/3\u001b[0m \u001b[32m━━━━━━━━━━━━━━━━━━━━\u001b[0m\u001b[37m\u001b[0m \u001b[1m0s\u001b[0m 24ms/step - loss: 4388946944.0000 - mae: 50184.6797 - val_loss: 1942856832.0000 - val_mae: 29011.5137\n",
      "Epoch 20/50\n",
      "\u001b[1m3/3\u001b[0m \u001b[32m━━━━━━━━━━━━━━━━━━━━\u001b[0m\u001b[37m\u001b[0m \u001b[1m0s\u001b[0m 18ms/step - loss: 3182809856.0000 - mae: 43265.2812 - val_loss: 1942830720.0000 - val_mae: 29011.4512\n",
      "Epoch 21/50\n",
      "\u001b[1m3/3\u001b[0m \u001b[32m━━━━━━━━━━━━━━━━━━━━\u001b[0m\u001b[37m\u001b[0m \u001b[1m0s\u001b[0m 34ms/step - loss: 3667090944.0000 - mae: 42022.2812 - val_loss: 1942801664.0000 - val_mae: 29011.3906\n",
      "Epoch 22/50\n",
      "\u001b[1m3/3\u001b[0m \u001b[32m━━━━━━━━━━━━━━━━━━━━\u001b[0m\u001b[37m\u001b[0m \u001b[1m0s\u001b[0m 25ms/step - loss: 3455502336.0000 - mae: 43431.9570 - val_loss: 1942769664.0000 - val_mae: 29011.3320\n",
      "Epoch 23/50\n",
      "\u001b[1m3/3\u001b[0m \u001b[32m━━━━━━━━━━━━━━━━━━━━\u001b[0m\u001b[37m\u001b[0m \u001b[1m0s\u001b[0m 27ms/step - loss: 2731754496.0000 - mae: 37108.0312 - val_loss: 1942733696.0000 - val_mae: 29011.2539\n",
      "Epoch 24/50\n",
      "\u001b[1m3/3\u001b[0m \u001b[32m━━━━━━━━━━━━━━━━━━━━\u001b[0m\u001b[37m\u001b[0m \u001b[1m0s\u001b[0m 24ms/step - loss: 3596093440.0000 - mae: 43745.9961 - val_loss: 1942692096.0000 - val_mae: 29011.1719\n",
      "Epoch 25/50\n",
      "\u001b[1m3/3\u001b[0m \u001b[32m━━━━━━━━━━━━━━━━━━━━\u001b[0m\u001b[37m\u001b[0m \u001b[1m0s\u001b[0m 25ms/step - loss: 4385088000.0000 - mae: 48660.5781 - val_loss: 1942647040.0000 - val_mae: 29011.0781\n",
      "Epoch 26/50\n",
      "\u001b[1m3/3\u001b[0m \u001b[32m━━━━━━━━━━━━━━━━━━━━\u001b[0m\u001b[37m\u001b[0m \u001b[1m0s\u001b[0m 17ms/step - loss: 3333573120.0000 - mae: 42728.3359 - val_loss: 1942597888.0000 - val_mae: 29010.9746\n",
      "Epoch 27/50\n",
      "\u001b[1m3/3\u001b[0m \u001b[32m━━━━━━━━━━━━━━━━━━━━\u001b[0m\u001b[37m\u001b[0m \u001b[1m0s\u001b[0m 25ms/step - loss: 3987928832.0000 - mae: 44685.1562 - val_loss: 1942544000.0000 - val_mae: 29010.8613\n",
      "Epoch 28/50\n",
      "\u001b[1m3/3\u001b[0m \u001b[32m━━━━━━━━━━━━━━━━━━━━\u001b[0m\u001b[37m\u001b[0m \u001b[1m0s\u001b[0m 25ms/step - loss: 3791628544.0000 - mae: 44977.9219 - val_loss: 1942483712.0000 - val_mae: 29010.7227\n",
      "Epoch 29/50\n",
      "\u001b[1m3/3\u001b[0m \u001b[32m━━━━━━━━━━━━━━━━━━━━\u001b[0m\u001b[37m\u001b[0m \u001b[1m0s\u001b[0m 28ms/step - loss: 4124157952.0000 - mae: 46140.8828 - val_loss: 1942418560.0000 - val_mae: 29010.5801\n",
      "Epoch 30/50\n",
      "\u001b[1m3/3\u001b[0m \u001b[32m━━━━━━━━━━━━━━━━━━━━\u001b[0m\u001b[37m\u001b[0m \u001b[1m0s\u001b[0m 21ms/step - loss: 3325822464.0000 - mae: 42273.7734 - val_loss: 1942347776.0000 - val_mae: 29010.4219\n",
      "Epoch 31/50\n",
      "\u001b[1m3/3\u001b[0m \u001b[32m━━━━━━━━━━━━━━━━━━━━\u001b[0m\u001b[37m\u001b[0m \u001b[1m0s\u001b[0m 25ms/step - loss: 3492997632.0000 - mae: 42598.3555 - val_loss: 1942269824.0000 - val_mae: 29010.2910\n",
      "Epoch 32/50\n",
      "\u001b[1m3/3\u001b[0m \u001b[32m━━━━━━━━━━━━━━━━━━━━\u001b[0m\u001b[37m\u001b[0m \u001b[1m0s\u001b[0m 24ms/step - loss: 3308532736.0000 - mae: 41629.2578 - val_loss: 1942184320.0000 - val_mae: 29010.1582\n",
      "Epoch 33/50\n",
      "\u001b[1m3/3\u001b[0m \u001b[32m━━━━━━━━━━━━━━━━━━━━\u001b[0m\u001b[37m\u001b[0m \u001b[1m0s\u001b[0m 26ms/step - loss: 3178027264.0000 - mae: 39666.3047 - val_loss: 1942090112.0000 - val_mae: 29010.0117\n",
      "Epoch 34/50\n",
      "\u001b[1m3/3\u001b[0m \u001b[32m━━━━━━━━━━━━━━━━━━━━\u001b[0m\u001b[37m\u001b[0m \u001b[1m0s\u001b[0m 25ms/step - loss: 3781490176.0000 - mae: 45045.7656 - val_loss: 1941985408.0000 - val_mae: 29009.8477\n",
      "Epoch 35/50\n",
      "\u001b[1m3/3\u001b[0m \u001b[32m━━━━━━━━━━━━━━━━━━━━\u001b[0m\u001b[37m\u001b[0m \u001b[1m0s\u001b[0m 23ms/step - loss: 3735809024.0000 - mae: 46699.7500 - val_loss: 1941873792.0000 - val_mae: 29009.6680\n",
      "Epoch 36/50\n",
      "\u001b[1m3/3\u001b[0m \u001b[32m━━━━━━━━━━━━━━━━━━━━\u001b[0m\u001b[37m\u001b[0m \u001b[1m0s\u001b[0m 22ms/step - loss: 4072485120.0000 - mae: 46286.4609 - val_loss: 1941754112.0000 - val_mae: 29009.4961\n",
      "Epoch 37/50\n",
      "\u001b[1m3/3\u001b[0m \u001b[32m━━━━━━━━━━━━━━━━━━━━\u001b[0m\u001b[37m\u001b[0m \u001b[1m0s\u001b[0m 21ms/step - loss: 3823476480.0000 - mae: 44190.9727 - val_loss: 1941620608.0000 - val_mae: 29009.2832\n",
      "Epoch 38/50\n",
      "\u001b[1m3/3\u001b[0m \u001b[32m━━━━━━━━━━━━━━━━━━━━\u001b[0m\u001b[37m\u001b[0m \u001b[1m0s\u001b[0m 67ms/step - loss: 4344925184.0000 - mae: 47699.4062 - val_loss: 1941476608.0000 - val_mae: 29009.0781\n",
      "Epoch 39/50\n",
      "\u001b[1m3/3\u001b[0m \u001b[32m━━━━━━━━━━━━━━━━━━━━\u001b[0m\u001b[37m\u001b[0m \u001b[1m0s\u001b[0m 40ms/step - loss: 4316754944.0000 - mae: 48874.8906 - val_loss: 1941322368.0000 - val_mae: 29008.8379\n",
      "Epoch 40/50\n",
      "\u001b[1m3/3\u001b[0m \u001b[32m━━━━━━━━━━━━━━━━━━━━\u001b[0m\u001b[37m\u001b[0m \u001b[1m0s\u001b[0m 25ms/step - loss: 3325053696.0000 - mae: 44030.9258 - val_loss: 1941157504.0000 - val_mae: 29008.5781\n",
      "Epoch 41/50\n",
      "\u001b[1m3/3\u001b[0m \u001b[32m━━━━━━━━━━━━━━━━━━━━\u001b[0m\u001b[37m\u001b[0m \u001b[1m0s\u001b[0m 18ms/step - loss: 2607793920.0000 - mae: 34059.0000 - val_loss: 1940983808.0000 - val_mae: 29008.3184\n",
      "Epoch 42/50\n",
      "\u001b[1m3/3\u001b[0m \u001b[32m━━━━━━━━━━━━━━━━━━━━\u001b[0m\u001b[37m\u001b[0m \u001b[1m0s\u001b[0m 22ms/step - loss: 3124532480.0000 - mae: 39229.8594 - val_loss: 1940791552.0000 - val_mae: 29008.0566\n",
      "Epoch 43/50\n",
      "\u001b[1m3/3\u001b[0m \u001b[32m━━━━━━━━━━━━━━━━━━━━\u001b[0m\u001b[37m\u001b[0m \u001b[1m0s\u001b[0m 25ms/step - loss: 4105604096.0000 - mae: 47050.5664 - val_loss: 1940583808.0000 - val_mae: 29007.8125\n",
      "Epoch 44/50\n",
      "\u001b[1m3/3\u001b[0m \u001b[32m━━━━━━━━━━━━━━━━━━━━\u001b[0m\u001b[37m\u001b[0m \u001b[1m0s\u001b[0m 33ms/step - loss: 3759062016.0000 - mae: 42625.9570 - val_loss: 1940365184.0000 - val_mae: 29007.4980\n",
      "Epoch 45/50\n",
      "\u001b[1m3/3\u001b[0m \u001b[32m━━━━━━━━━━━━━━━━━━━━\u001b[0m\u001b[37m\u001b[0m \u001b[1m0s\u001b[0m 25ms/step - loss: 3282680064.0000 - mae: 41839.5469 - val_loss: 1940134144.0000 - val_mae: 29007.1504\n",
      "Epoch 46/50\n",
      "\u001b[1m3/3\u001b[0m \u001b[32m━━━━━━━━━━━━━━━━━━━━\u001b[0m\u001b[37m\u001b[0m \u001b[1m0s\u001b[0m 24ms/step - loss: 4425963520.0000 - mae: 50003.3203 - val_loss: 1939887488.0000 - val_mae: 29006.8105\n",
      "Epoch 47/50\n",
      "\u001b[1m3/3\u001b[0m \u001b[32m━━━━━━━━━━━━━━━━━━━━\u001b[0m\u001b[37m\u001b[0m \u001b[1m0s\u001b[0m 21ms/step - loss: 3370450432.0000 - mae: 44228.8672 - val_loss: 1939627904.0000 - val_mae: 29006.3887\n",
      "Epoch 48/50\n",
      "\u001b[1m3/3\u001b[0m \u001b[32m━━━━━━━━━━━━━━━━━━━━\u001b[0m\u001b[37m\u001b[0m \u001b[1m0s\u001b[0m 24ms/step - loss: 3259130880.0000 - mae: 42587.0195 - val_loss: 1939345152.0000 - val_mae: 29005.9805\n",
      "Epoch 49/50\n",
      "\u001b[1m3/3\u001b[0m \u001b[32m━━━━━━━━━━━━━━━━━━━━\u001b[0m\u001b[37m\u001b[0m \u001b[1m0s\u001b[0m 22ms/step - loss: 3791347200.0000 - mae: 43870.9102 - val_loss: 1939041280.0000 - val_mae: 29005.5586\n",
      "Epoch 50/50\n",
      "\u001b[1m3/3\u001b[0m \u001b[32m━━━━━━━━━━━━━━━━━━━━\u001b[0m\u001b[37m\u001b[0m \u001b[1m0s\u001b[0m 40ms/step - loss: 2893241856.0000 - mae: 39305.8516 - val_loss: 1938726528.0000 - val_mae: 29005.1426\n",
      "\u001b[1m1/1\u001b[0m \u001b[32m━━━━━━━━━━━━━━━━━━━━\u001b[0m\u001b[37m\u001b[0m \u001b[1m0s\u001b[0m 31ms/step - loss: 2698014208.0000 - mae: 36691.4648\n",
      "Test Loss (MSE): 2698014208.0000\n",
      "Test MAE: 36691.4648\n"
     ]
    },
    {
     "data": {
      "image/png": "[encoded data removed]",
      "text/plain": [
       "<Figure size 1200x500 with 2 Axes>"
      ]
     },
     "metadata": {},
     "output_type": "display_data"
    }
   ],
   "source": [
    "import pandas as pd\n",
    "import numpy as np\n",
    "from sklearn.model_selection import train_test_split\n",
    "from sklearn.preprocessing import StandardScaler, LabelEncoder\n",
    "from tensorflow.keras.models import Sequential\n",
    "from tensorflow.keras.layers import Dense\n",
    "import matplotlib.pyplot as plt\n",
    "\n",
    "# Load dataset\n",
    "data = pd.read_csv('C:\\\\Users\\\\User\\\\OneDrive\\\\Desktop\\\\repo\\\\loanno_reg1.csv')\n",
    "\n",
    "# Check for missing values\n",
    "print(\"Missing values before filling:\")\n",
    "print(data.isnull().sum())\n",
    "\n",
    "# Fill missing values with the mean or drop them\n",
    "data.dropna(axis=0, inplace=True)\n",
    "data.drop(\"Has Active Credit Card\",axis=1,inplace=True)\n",
    "# Check again for missing values\n",
    "print(\"Missing values after filling:\")\n",
    "print(data.isnull().sum())\n",
    "\n",
    "# Encode categorical features using LabelEncoder where necessary\n",
    "label_encoder = LabelEncoder()\n",
    "categorical_columns = ['Gender', 'Profession', 'Location', 'Property Location']\n",
    "for column in categorical_columns:\n",
    "    data[column] = label_encoder.fit_transform(data[column])\n",
    "\n",
    "# Features and target variable\n",
    "X = data.drop(['Customer ID', 'Name', 'Loan Sanction Amount (INR)'], axis=1)\n",
    "y = data['Loan Sanction Amount (INR)']\n",
    "\n",
    "# Split the data into training and testing sets\n",
    "X_train, X_test, y_train, y_test = train_test_split(X, y, test_size=0.2, random_state=42)\n",
    "\n",
    "# Scale features\n",
    "scaler = StandardScaler()\n",
    "X_train = scaler.fit_transform(X_train)\n",
    "X_test = scaler.transform(X_test)\n",
    "\n",
    "# Build the model\n",
    "model = Sequential()\n",
    "model.add(Dense(64, activation='relu', input_shape=(X_train.shape[1],)))\n",
    "model.add(Dense(32, activation='relu'))\n",
    "model.add(Dense(16, activation='relu'))\n",
    "model.add(Dense(1))  # Linear activation for regression\n",
    "\n",
    "# Compile the model\n",
    "model.compile(optimizer='adam', loss='mean_squared_error', metrics=['mae'])\n",
    "\n",
    "# Train the model and store the history\n",
    "history = model.fit(X_train, y_train, epochs=50, batch_size=10, validation_split=0.2)\n",
    "\n",
    "# Evaluate the model on test data and print both loss and MAE\n",
    "test_loss, test_mae = model.evaluate(X_test, y_test)\n",
    "print(f'Test Loss (MSE): {test_loss:.4f}')\n",
    "print(f'Test MAE: {test_mae:.4f}')\n",
    "\n",
    "# Plotting loss and MAE over epochs\n",
    "plt.figure(figsize=(12, 5))\n",
    "\n",
    "# Plot training & validation loss values\n",
    "plt.subplot(1, 2, 1)\n",
    "plt.plot(history.history['loss'], label='Train Loss (MSE)')\n",
    "plt.plot(history.history['val_loss'], label='Validation Loss (MSE)')\n",
    "plt.title('Model Loss')\n",
    "plt.ylabel('Loss (MSE)')\n",
    "plt.xlabel('Epoch')\n",
    "plt.legend(loc='upper right')\n",
    "\n",
    "# Plot training & validation MAE values\n",
    "plt.subplot(1, 2, 2)\n",
    "plt.plot(history.history['mae'], label='Train MAE')\n",
    "plt.plot(history.history['val_mae'], label='Validation MAE')\n",
    "plt.title('Model Mean Absolute Error')\n",
    "plt.ylabel('MAE')\n",
    "plt.xlabel('Epoch')\n",
    "plt.legend(loc='upper right')\n",
    "\n",
    "plt.tight_layout()\n",
    "plt.show()"
   ]
  },
  {
   "cell_type": "code",
   "execution_count": null,
   "id": "88897606-eed0-4255-b5a2-9050edbc77bc",
   "metadata": {},
   "outputs": [],
   "source": []
  }
 ],
 "metadata": {
  "kernelspec": {
   "display_name": "Python 3 (ipykernel)",
   "language": "python",
   "name": "python3"
  },
  "language_info": {
   "codemirror_mode": {
    "name": "ipython",
    "version": 3
   },
   "file_extension": ".py",
   "mimetype": "text/x-python",
   "name": "python",
   "nbconvert_exporter": "python",
   "pygments_lexer": "ipython3",
   "version": "3.12.4"
  }
 },
 "nbformat": 4,
 "nbformat_minor": 5
}
